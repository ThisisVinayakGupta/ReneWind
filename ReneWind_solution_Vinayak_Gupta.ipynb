{
  "nbformat": 4,
  "nbformat_minor": 0,
  "metadata": {
    "colab": {
      "provenance": [],
      "gpuType": "T4"
    },
    "kernelspec": {
      "name": "python3",
      "display_name": "Python 3"
    },
    "language_info": {
      "name": "python"
    },
    "accelerator": "GPU"
  },
  "cells": [
    {
      "cell_type": "markdown",
      "source": [
        "# **`ReneWind - Problem Statemen`t**"
      ],
      "metadata": {
        "id": "T8H_3syxCaMB"
      }
    },
    {
      "cell_type": "markdown",
      "source": [
        "# **Context(Problem Statement)**\n",
        "Renewable energy sources play an increasingly important role in the global energy mix, as the effort to reduce the environmental impact of energy production increases.\n",
        "\n",
        "Out of all the renewable energy alternatives, wind energy is one of the most developed technologies worldwide. The U.S. Department of Energy has put together a guide to achieving operational efficiency using predictive maintenance practices.\n",
        "\n",
        "Predictive maintenance uses sensor information and analysis methods to measure and predict degradation and future component capability. The idea behind predictive maintenance is that failure patterns are predictable and if component failure can be predicted accurately and the component is replaced before it fails, the costs of operation and maintenance will be much lower.\n",
        "The sensors fitted across different machines involved in the process of energy generation collect data related to various environmental factors (temperature, humidity, wind speed, etc.) and additional features related to various parts of the wind turbine (gearbox, tower, blades, break, etc.)\n",
        "\n",
        "## **Objective**\n",
        "\n",
        "\"ReWind\" is a company working on improving the machinery processes involved in the production of wind energy using machine learning and has collected data on generator failure of wind turbines using sensors. They have shared a ciphered version of the data, as the data collected through sensors is confidential (the type of data collected varies with companies). Data has 40 predictors, 20000 observations in the training set, and 5000 in the test set.\n",
        "The objective is to build various classification models, tune them, and find the best one that will help identify failures so that the generators can be repaired before failing/breaking to reduce the overall maintenance cost.\n",
        "\n",
        "1. True positives (TP) are failures correctly predicted by the model. These will result in repair costs.\n",
        "2. False negatives (FN) are real failures where there is no detection by the model. These will result in replacement costs.\n",
        "3. False positives (FP) are detections where there is no failure. These will result in inspection costs.\n",
        "\n",
        "* It is given that the cost of repairing a generator is much less than the cost of replacing it, and the cost of inspection is less than the cost of repair.\n",
        "* \"1\" in the target variable should be considered as \"Failure\" and \"0\" represents \"No Failure\".\n",
        "\n",
        "\n",
        "### **Data Dictionary**\n",
        "\n",
        "The data provided is a transformed version of the original data which was collected using sensors.\n",
        "\n",
        "* Train.csv - To be used for training and tuning of models.\n",
        "* Test.csv - To be used for testing the performance of the final best model.\n",
        "Both datasets consist of 40 predictor variables and 1 target variable."
      ],
      "metadata": {
        "id": "aWHFw7FNCwnH"
      }
    },
    {
      "cell_type": "code",
      "execution_count": 82,
      "metadata": {
        "id": "JL-DYgHBGk2Y"
      },
      "outputs": [],
      "source": [
        "#Import Libraries\n",
        "import pandas as pd\n",
        "import numpy as np\n",
        "import matplotlib.pyplot as plt\n",
        "import seaborn as sns\n",
        "from sklearn.model_selection import train_test_split\n",
        "from sklearn.preprocessing import StandardScaler\n",
        "from sklearn.metrics import classification_report, confusion_matrix, accuracy_score, roc_auc_score\n",
        "from imblearn.over_sampling import SMOTE  # For handling class imbalance if needed\n",
        "import tensorflow as tf\n",
        "from tensorflow.keras.models import Sequential\n",
        "from tensorflow.keras.layers import Dense, Dropout\n",
        "from tensorflow.keras.optimizers import SGD, Adam\n",
        "from tensorflow.keras.callbacks import EarlyStopping\n",
        "from sklearn.utils.class_weight import compute_class_weight\n",
        "from google.colab import drive\n",
        "\n",
        "# Set random seed for reproducibility\n",
        "np.random.seed(42)\n",
        "tf.random.set_seed(42)\n",
        "\n",
        "# Ignore warnings\n",
        "import warnings\n",
        "warnings.filterwarnings('ignore')"
      ]
    },
    {
      "cell_type": "markdown",
      "source": [
        "## **Observation**\n",
        "Code imports pandas, numpy, matplotlib, seaborn, sklearn, TensorFlow, and Google Colab for data handling, modeling, and evaluation. Sets random seeds for reproducibility. Includes SMOTE for potential imbalance.\n"
      ],
      "metadata": {
        "id": "QxWZ4mE6ISI_"
      }
    },
    {
      "cell_type": "code",
      "source": [
        "#mount google drive\n",
        "drive.mount('/content/drive')   #connects the notebook to Google Drive to access the dataset file"
      ],
      "metadata": {
        "id": "TbLY9W00IUuT",
        "colab": {
          "base_uri": "https://localhost:8080/"
        },
        "outputId": "a360d1ca-c73a-4608-e93d-d807c05d152f"
      },
      "execution_count": 83,
      "outputs": [
        {
          "output_type": "stream",
          "name": "stdout",
          "text": [
            "Drive already mounted at /content/drive; to attempt to forcibly remount, call drive.mount(\"/content/drive\", force_remount=True).\n"
          ]
        }
      ]
    },
    {
      "cell_type": "code",
      "source": [
        "# Specify the correct path to the files in Google Drive\n",
        "train_path = '/content/drive/My Drive/AIML_project/Dataset - Train.csv'\n",
        "test_path = '/content/drive/My Drive/AIML_project/Dataset - Test.csv'"
      ],
      "metadata": {
        "id": "je3R7wXBJyQN"
      },
      "execution_count": 84,
      "outputs": []
    },
    {
      "cell_type": "code",
      "source": [
        "# Load Data\n",
        "train_df = pd.read_csv(train_path)\n",
        "test_df = pd.read_csv(test_path)\n",
        "\n",
        "# Display shapes\n",
        "print(\"Train shape:\", train_df.shape)\n",
        "print(\"Test shape:\", test_df.shape)\n",
        "\n",
        "# Display first few rows of train\n",
        "train_df.head()"
      ],
      "metadata": {
        "id": "EQls3ZpvIbHv",
        "colab": {
          "base_uri": "https://localhost:8080/",
          "height": 271
        },
        "outputId": "057f143e-166e-49fa-a97d-c6b8555fed40"
      },
      "execution_count": 85,
      "outputs": [
        {
          "output_type": "stream",
          "name": "stdout",
          "text": [
            "Train shape: (20000, 41)\n",
            "Test shape: (5000, 41)\n"
          ]
        },
        {
          "output_type": "execute_result",
          "data": {
            "text/plain": [
              "         V1        V2        V3        V4        V5        V6        V7  \\\n",
              "0 -4.464606 -4.679129  3.101546  0.506130 -0.221083 -2.032511 -2.910870   \n",
              "1  3.365912  3.653381  0.909671 -1.367528  0.332016  2.358938  0.732600   \n",
              "2 -3.831843 -5.824444  0.634031 -2.418815 -1.773827  1.016824 -2.098941   \n",
              "3  1.618098  1.888342  7.046143 -1.147285  0.083080 -1.529780  0.207309   \n",
              "4 -0.111440  3.872488 -3.758361 -2.982897  3.792714  0.544960  0.205433   \n",
              "\n",
              "         V8        V9       V10  ...       V32       V33        V34       V35  \\\n",
              "0  0.050714 -1.522351  3.761892  ...  3.059700 -1.690440   2.846296  2.235198   \n",
              "1 -4.332135  0.565695 -0.101080  ... -1.795474  3.032780  -2.467514  1.894599   \n",
              "2 -3.173204 -2.081860  5.392621  ... -0.257101  0.803550   4.086219  2.292138   \n",
              "3 -2.493629  0.344926  2.118578  ... -3.584425 -2.577474   1.363769  0.622714   \n",
              "4  4.848994 -1.854920 -6.220023  ...  8.265896  6.629213 -10.068689  1.222987   \n",
              "\n",
              "        V36       V37       V38       V39       V40  Target  \n",
              "0  6.667486  0.443809 -2.369169  2.950578 -3.480324       0  \n",
              "1 -2.297780 -1.731048  5.908837 -0.386345  0.616242       0  \n",
              "2  5.360850  0.351993  2.940021  3.839160 -4.309402       0  \n",
              "3  5.550100 -1.526796  0.138853  3.101430 -1.277378       0  \n",
              "4 -3.229763  1.686909 -2.163896 -3.644622  6.510338       0  \n",
              "\n",
              "[5 rows x 41 columns]"
            ],
            "text/html": [
              "\n",
              "  <div id=\"df-0649b33e-3a96-42c3-b2d2-9fcb078f3456\" class=\"colab-df-container\">\n",
              "    <div>\n",
              "<style scoped>\n",
              "    .dataframe tbody tr th:only-of-type {\n",
              "        vertical-align: middle;\n",
              "    }\n",
              "\n",
              "    .dataframe tbody tr th {\n",
              "        vertical-align: top;\n",
              "    }\n",
              "\n",
              "    .dataframe thead th {\n",
              "        text-align: right;\n",
              "    }\n",
              "</style>\n",
              "<table border=\"1\" class=\"dataframe\">\n",
              "  <thead>\n",
              "    <tr style=\"text-align: right;\">\n",
              "      <th></th>\n",
              "      <th>V1</th>\n",
              "      <th>V2</th>\n",
              "      <th>V3</th>\n",
              "      <th>V4</th>\n",
              "      <th>V5</th>\n",
              "      <th>V6</th>\n",
              "      <th>V7</th>\n",
              "      <th>V8</th>\n",
              "      <th>V9</th>\n",
              "      <th>V10</th>\n",
              "      <th>...</th>\n",
              "      <th>V32</th>\n",
              "      <th>V33</th>\n",
              "      <th>V34</th>\n",
              "      <th>V35</th>\n",
              "      <th>V36</th>\n",
              "      <th>V37</th>\n",
              "      <th>V38</th>\n",
              "      <th>V39</th>\n",
              "      <th>V40</th>\n",
              "      <th>Target</th>\n",
              "    </tr>\n",
              "  </thead>\n",
              "  <tbody>\n",
              "    <tr>\n",
              "      <th>0</th>\n",
              "      <td>-4.464606</td>\n",
              "      <td>-4.679129</td>\n",
              "      <td>3.101546</td>\n",
              "      <td>0.506130</td>\n",
              "      <td>-0.221083</td>\n",
              "      <td>-2.032511</td>\n",
              "      <td>-2.910870</td>\n",
              "      <td>0.050714</td>\n",
              "      <td>-1.522351</td>\n",
              "      <td>3.761892</td>\n",
              "      <td>...</td>\n",
              "      <td>3.059700</td>\n",
              "      <td>-1.690440</td>\n",
              "      <td>2.846296</td>\n",
              "      <td>2.235198</td>\n",
              "      <td>6.667486</td>\n",
              "      <td>0.443809</td>\n",
              "      <td>-2.369169</td>\n",
              "      <td>2.950578</td>\n",
              "      <td>-3.480324</td>\n",
              "      <td>0</td>\n",
              "    </tr>\n",
              "    <tr>\n",
              "      <th>1</th>\n",
              "      <td>3.365912</td>\n",
              "      <td>3.653381</td>\n",
              "      <td>0.909671</td>\n",
              "      <td>-1.367528</td>\n",
              "      <td>0.332016</td>\n",
              "      <td>2.358938</td>\n",
              "      <td>0.732600</td>\n",
              "      <td>-4.332135</td>\n",
              "      <td>0.565695</td>\n",
              "      <td>-0.101080</td>\n",
              "      <td>...</td>\n",
              "      <td>-1.795474</td>\n",
              "      <td>3.032780</td>\n",
              "      <td>-2.467514</td>\n",
              "      <td>1.894599</td>\n",
              "      <td>-2.297780</td>\n",
              "      <td>-1.731048</td>\n",
              "      <td>5.908837</td>\n",
              "      <td>-0.386345</td>\n",
              "      <td>0.616242</td>\n",
              "      <td>0</td>\n",
              "    </tr>\n",
              "    <tr>\n",
              "      <th>2</th>\n",
              "      <td>-3.831843</td>\n",
              "      <td>-5.824444</td>\n",
              "      <td>0.634031</td>\n",
              "      <td>-2.418815</td>\n",
              "      <td>-1.773827</td>\n",
              "      <td>1.016824</td>\n",
              "      <td>-2.098941</td>\n",
              "      <td>-3.173204</td>\n",
              "      <td>-2.081860</td>\n",
              "      <td>5.392621</td>\n",
              "      <td>...</td>\n",
              "      <td>-0.257101</td>\n",
              "      <td>0.803550</td>\n",
              "      <td>4.086219</td>\n",
              "      <td>2.292138</td>\n",
              "      <td>5.360850</td>\n",
              "      <td>0.351993</td>\n",
              "      <td>2.940021</td>\n",
              "      <td>3.839160</td>\n",
              "      <td>-4.309402</td>\n",
              "      <td>0</td>\n",
              "    </tr>\n",
              "    <tr>\n",
              "      <th>3</th>\n",
              "      <td>1.618098</td>\n",
              "      <td>1.888342</td>\n",
              "      <td>7.046143</td>\n",
              "      <td>-1.147285</td>\n",
              "      <td>0.083080</td>\n",
              "      <td>-1.529780</td>\n",
              "      <td>0.207309</td>\n",
              "      <td>-2.493629</td>\n",
              "      <td>0.344926</td>\n",
              "      <td>2.118578</td>\n",
              "      <td>...</td>\n",
              "      <td>-3.584425</td>\n",
              "      <td>-2.577474</td>\n",
              "      <td>1.363769</td>\n",
              "      <td>0.622714</td>\n",
              "      <td>5.550100</td>\n",
              "      <td>-1.526796</td>\n",
              "      <td>0.138853</td>\n",
              "      <td>3.101430</td>\n",
              "      <td>-1.277378</td>\n",
              "      <td>0</td>\n",
              "    </tr>\n",
              "    <tr>\n",
              "      <th>4</th>\n",
              "      <td>-0.111440</td>\n",
              "      <td>3.872488</td>\n",
              "      <td>-3.758361</td>\n",
              "      <td>-2.982897</td>\n",
              "      <td>3.792714</td>\n",
              "      <td>0.544960</td>\n",
              "      <td>0.205433</td>\n",
              "      <td>4.848994</td>\n",
              "      <td>-1.854920</td>\n",
              "      <td>-6.220023</td>\n",
              "      <td>...</td>\n",
              "      <td>8.265896</td>\n",
              "      <td>6.629213</td>\n",
              "      <td>-10.068689</td>\n",
              "      <td>1.222987</td>\n",
              "      <td>-3.229763</td>\n",
              "      <td>1.686909</td>\n",
              "      <td>-2.163896</td>\n",
              "      <td>-3.644622</td>\n",
              "      <td>6.510338</td>\n",
              "      <td>0</td>\n",
              "    </tr>\n",
              "  </tbody>\n",
              "</table>\n",
              "<p>5 rows × 41 columns</p>\n",
              "</div>\n",
              "    <div class=\"colab-df-buttons\">\n",
              "\n",
              "  <div class=\"colab-df-container\">\n",
              "    <button class=\"colab-df-convert\" onclick=\"convertToInteractive('df-0649b33e-3a96-42c3-b2d2-9fcb078f3456')\"\n",
              "            title=\"Convert this dataframe to an interactive table.\"\n",
              "            style=\"display:none;\">\n",
              "\n",
              "  <svg xmlns=\"http://www.w3.org/2000/svg\" height=\"24px\" viewBox=\"0 -960 960 960\">\n",
              "    <path d=\"M120-120v-720h720v720H120Zm60-500h600v-160H180v160Zm220 220h160v-160H400v160Zm0 220h160v-160H400v160ZM180-400h160v-160H180v160Zm440 0h160v-160H620v160ZM180-180h160v-160H180v160Zm440 0h160v-160H620v160Z\"/>\n",
              "  </svg>\n",
              "    </button>\n",
              "\n",
              "  <style>\n",
              "    .colab-df-container {\n",
              "      display:flex;\n",
              "      gap: 12px;\n",
              "    }\n",
              "\n",
              "    .colab-df-convert {\n",
              "      background-color: #E8F0FE;\n",
              "      border: none;\n",
              "      border-radius: 50%;\n",
              "      cursor: pointer;\n",
              "      display: none;\n",
              "      fill: #1967D2;\n",
              "      height: 32px;\n",
              "      padding: 0 0 0 0;\n",
              "      width: 32px;\n",
              "    }\n",
              "\n",
              "    .colab-df-convert:hover {\n",
              "      background-color: #E2EBFA;\n",
              "      box-shadow: 0px 1px 2px rgba(60, 64, 67, 0.3), 0px 1px 3px 1px rgba(60, 64, 67, 0.15);\n",
              "      fill: #174EA6;\n",
              "    }\n",
              "\n",
              "    .colab-df-buttons div {\n",
              "      margin-bottom: 4px;\n",
              "    }\n",
              "\n",
              "    [theme=dark] .colab-df-convert {\n",
              "      background-color: #3B4455;\n",
              "      fill: #D2E3FC;\n",
              "    }\n",
              "\n",
              "    [theme=dark] .colab-df-convert:hover {\n",
              "      background-color: #434B5C;\n",
              "      box-shadow: 0px 1px 3px 1px rgba(0, 0, 0, 0.15);\n",
              "      filter: drop-shadow(0px 1px 2px rgba(0, 0, 0, 0.3));\n",
              "      fill: #FFFFFF;\n",
              "    }\n",
              "  </style>\n",
              "\n",
              "    <script>\n",
              "      const buttonEl =\n",
              "        document.querySelector('#df-0649b33e-3a96-42c3-b2d2-9fcb078f3456 button.colab-df-convert');\n",
              "      buttonEl.style.display =\n",
              "        google.colab.kernel.accessAllowed ? 'block' : 'none';\n",
              "\n",
              "      async function convertToInteractive(key) {\n",
              "        const element = document.querySelector('#df-0649b33e-3a96-42c3-b2d2-9fcb078f3456');\n",
              "        const dataTable =\n",
              "          await google.colab.kernel.invokeFunction('convertToInteractive',\n",
              "                                                    [key], {});\n",
              "        if (!dataTable) return;\n",
              "\n",
              "        const docLinkHtml = 'Like what you see? Visit the ' +\n",
              "          '<a target=\"_blank\" href=https://colab.research.google.com/notebooks/data_table.ipynb>data table notebook</a>'\n",
              "          + ' to learn more about interactive tables.';\n",
              "        element.innerHTML = '';\n",
              "        dataTable['output_type'] = 'display_data';\n",
              "        await google.colab.output.renderOutput(dataTable, element);\n",
              "        const docLink = document.createElement('div');\n",
              "        docLink.innerHTML = docLinkHtml;\n",
              "        element.appendChild(docLink);\n",
              "      }\n",
              "    </script>\n",
              "  </div>\n",
              "\n",
              "\n",
              "    <div id=\"df-e6d36dba-ccdc-4302-b0c1-881a8b618921\">\n",
              "      <button class=\"colab-df-quickchart\" onclick=\"quickchart('df-e6d36dba-ccdc-4302-b0c1-881a8b618921')\"\n",
              "                title=\"Suggest charts\"\n",
              "                style=\"display:none;\">\n",
              "\n",
              "<svg xmlns=\"http://www.w3.org/2000/svg\" height=\"24px\"viewBox=\"0 0 24 24\"\n",
              "     width=\"24px\">\n",
              "    <g>\n",
              "        <path d=\"M19 3H5c-1.1 0-2 .9-2 2v14c0 1.1.9 2 2 2h14c1.1 0 2-.9 2-2V5c0-1.1-.9-2-2-2zM9 17H7v-7h2v7zm4 0h-2V7h2v10zm4 0h-2v-4h2v4z\"/>\n",
              "    </g>\n",
              "</svg>\n",
              "      </button>\n",
              "\n",
              "<style>\n",
              "  .colab-df-quickchart {\n",
              "      --bg-color: #E8F0FE;\n",
              "      --fill-color: #1967D2;\n",
              "      --hover-bg-color: #E2EBFA;\n",
              "      --hover-fill-color: #174EA6;\n",
              "      --disabled-fill-color: #AAA;\n",
              "      --disabled-bg-color: #DDD;\n",
              "  }\n",
              "\n",
              "  [theme=dark] .colab-df-quickchart {\n",
              "      --bg-color: #3B4455;\n",
              "      --fill-color: #D2E3FC;\n",
              "      --hover-bg-color: #434B5C;\n",
              "      --hover-fill-color: #FFFFFF;\n",
              "      --disabled-bg-color: #3B4455;\n",
              "      --disabled-fill-color: #666;\n",
              "  }\n",
              "\n",
              "  .colab-df-quickchart {\n",
              "    background-color: var(--bg-color);\n",
              "    border: none;\n",
              "    border-radius: 50%;\n",
              "    cursor: pointer;\n",
              "    display: none;\n",
              "    fill: var(--fill-color);\n",
              "    height: 32px;\n",
              "    padding: 0;\n",
              "    width: 32px;\n",
              "  }\n",
              "\n",
              "  .colab-df-quickchart:hover {\n",
              "    background-color: var(--hover-bg-color);\n",
              "    box-shadow: 0 1px 2px rgba(60, 64, 67, 0.3), 0 1px 3px 1px rgba(60, 64, 67, 0.15);\n",
              "    fill: var(--button-hover-fill-color);\n",
              "  }\n",
              "\n",
              "  .colab-df-quickchart-complete:disabled,\n",
              "  .colab-df-quickchart-complete:disabled:hover {\n",
              "    background-color: var(--disabled-bg-color);\n",
              "    fill: var(--disabled-fill-color);\n",
              "    box-shadow: none;\n",
              "  }\n",
              "\n",
              "  .colab-df-spinner {\n",
              "    border: 2px solid var(--fill-color);\n",
              "    border-color: transparent;\n",
              "    border-bottom-color: var(--fill-color);\n",
              "    animation:\n",
              "      spin 1s steps(1) infinite;\n",
              "  }\n",
              "\n",
              "  @keyframes spin {\n",
              "    0% {\n",
              "      border-color: transparent;\n",
              "      border-bottom-color: var(--fill-color);\n",
              "      border-left-color: var(--fill-color);\n",
              "    }\n",
              "    20% {\n",
              "      border-color: transparent;\n",
              "      border-left-color: var(--fill-color);\n",
              "      border-top-color: var(--fill-color);\n",
              "    }\n",
              "    30% {\n",
              "      border-color: transparent;\n",
              "      border-left-color: var(--fill-color);\n",
              "      border-top-color: var(--fill-color);\n",
              "      border-right-color: var(--fill-color);\n",
              "    }\n",
              "    40% {\n",
              "      border-color: transparent;\n",
              "      border-right-color: var(--fill-color);\n",
              "      border-top-color: var(--fill-color);\n",
              "    }\n",
              "    60% {\n",
              "      border-color: transparent;\n",
              "      border-right-color: var(--fill-color);\n",
              "    }\n",
              "    80% {\n",
              "      border-color: transparent;\n",
              "      border-right-color: var(--fill-color);\n",
              "      border-bottom-color: var(--fill-color);\n",
              "    }\n",
              "    90% {\n",
              "      border-color: transparent;\n",
              "      border-bottom-color: var(--fill-color);\n",
              "    }\n",
              "  }\n",
              "</style>\n",
              "\n",
              "      <script>\n",
              "        async function quickchart(key) {\n",
              "          const quickchartButtonEl =\n",
              "            document.querySelector('#' + key + ' button');\n",
              "          quickchartButtonEl.disabled = true;  // To prevent multiple clicks.\n",
              "          quickchartButtonEl.classList.add('colab-df-spinner');\n",
              "          try {\n",
              "            const charts = await google.colab.kernel.invokeFunction(\n",
              "                'suggestCharts', [key], {});\n",
              "          } catch (error) {\n",
              "            console.error('Error during call to suggestCharts:', error);\n",
              "          }\n",
              "          quickchartButtonEl.classList.remove('colab-df-spinner');\n",
              "          quickchartButtonEl.classList.add('colab-df-quickchart-complete');\n",
              "        }\n",
              "        (() => {\n",
              "          let quickchartButtonEl =\n",
              "            document.querySelector('#df-e6d36dba-ccdc-4302-b0c1-881a8b618921 button');\n",
              "          quickchartButtonEl.style.display =\n",
              "            google.colab.kernel.accessAllowed ? 'block' : 'none';\n",
              "        })();\n",
              "      </script>\n",
              "    </div>\n",
              "\n",
              "    </div>\n",
              "  </div>\n"
            ],
            "application/vnd.google.colaboratory.intrinsic+json": {
              "type": "dataframe",
              "variable_name": "train_df"
            }
          },
          "metadata": {},
          "execution_count": 85
        }
      ]
    },
    {
      "cell_type": "code",
      "source": [
        "test_df.head()"
      ],
      "metadata": {
        "id": "Nd2os-t3KeZ_",
        "colab": {
          "base_uri": "https://localhost:8080/",
          "height": 236
        },
        "outputId": "f89f42d2-d9e3-4768-ee14-f46b8aaee279"
      },
      "execution_count": 86,
      "outputs": [
        {
          "output_type": "execute_result",
          "data": {
            "text/plain": [
              "         V1        V2        V3        V4        V5        V6        V7  \\\n",
              "0 -0.613489 -3.819640  2.202302  1.300420 -1.184929 -4.495964 -1.835817   \n",
              "1  0.389608 -0.512341  0.527053 -2.576776 -1.016766  2.235112 -0.441301   \n",
              "2 -0.874861 -0.640632  4.084202 -1.590454  0.525855 -1.957592 -0.695367   \n",
              "3  0.238384  1.458607  4.014528  2.534478  1.196987 -3.117330 -0.924035   \n",
              "4  5.828225  2.768260 -1.234530  2.809264 -1.641648 -1.406698  0.568643   \n",
              "\n",
              "         V8        V9       V10  ...       V32       V33       V34       V35  \\\n",
              "0  4.722989  1.206140 -0.341909  ...  2.291204 -5.411388  0.870073  0.574479   \n",
              "1 -4.405744 -0.332869  1.966794  ... -2.474936  2.493582  0.315165  2.059288   \n",
              "2  1.347309 -1.732348  0.466500  ... -1.318888 -2.997464  0.459664  0.619774   \n",
              "3  0.269493  1.322436  0.702345  ...  3.517918 -3.074085 -0.284220  0.954576   \n",
              "4  0.965043  1.918379 -2.774855  ...  1.773841 -1.501573 -2.226702  4.776830   \n",
              "\n",
              "        V36       V37        V38       V39       V40  Target  \n",
              "0  4.157191  1.428093 -10.511342  0.454664 -1.448363       0  \n",
              "1  0.683859 -0.485452   5.128350  1.720744 -1.488235       0  \n",
              "2  5.631504  1.323512  -1.752154  1.808302  1.675748       0  \n",
              "3  3.029331 -1.367198  -3.412140  0.906000 -2.450889       0  \n",
              "4 -6.559698 -0.805551  -0.276007 -3.858207 -0.537694       0  \n",
              "\n",
              "[5 rows x 41 columns]"
            ],
            "text/html": [
              "\n",
              "  <div id=\"df-7b1c9305-8dd0-4b90-9913-444ff06ce651\" class=\"colab-df-container\">\n",
              "    <div>\n",
              "<style scoped>\n",
              "    .dataframe tbody tr th:only-of-type {\n",
              "        vertical-align: middle;\n",
              "    }\n",
              "\n",
              "    .dataframe tbody tr th {\n",
              "        vertical-align: top;\n",
              "    }\n",
              "\n",
              "    .dataframe thead th {\n",
              "        text-align: right;\n",
              "    }\n",
              "</style>\n",
              "<table border=\"1\" class=\"dataframe\">\n",
              "  <thead>\n",
              "    <tr style=\"text-align: right;\">\n",
              "      <th></th>\n",
              "      <th>V1</th>\n",
              "      <th>V2</th>\n",
              "      <th>V3</th>\n",
              "      <th>V4</th>\n",
              "      <th>V5</th>\n",
              "      <th>V6</th>\n",
              "      <th>V7</th>\n",
              "      <th>V8</th>\n",
              "      <th>V9</th>\n",
              "      <th>V10</th>\n",
              "      <th>...</th>\n",
              "      <th>V32</th>\n",
              "      <th>V33</th>\n",
              "      <th>V34</th>\n",
              "      <th>V35</th>\n",
              "      <th>V36</th>\n",
              "      <th>V37</th>\n",
              "      <th>V38</th>\n",
              "      <th>V39</th>\n",
              "      <th>V40</th>\n",
              "      <th>Target</th>\n",
              "    </tr>\n",
              "  </thead>\n",
              "  <tbody>\n",
              "    <tr>\n",
              "      <th>0</th>\n",
              "      <td>-0.613489</td>\n",
              "      <td>-3.819640</td>\n",
              "      <td>2.202302</td>\n",
              "      <td>1.300420</td>\n",
              "      <td>-1.184929</td>\n",
              "      <td>-4.495964</td>\n",
              "      <td>-1.835817</td>\n",
              "      <td>4.722989</td>\n",
              "      <td>1.206140</td>\n",
              "      <td>-0.341909</td>\n",
              "      <td>...</td>\n",
              "      <td>2.291204</td>\n",
              "      <td>-5.411388</td>\n",
              "      <td>0.870073</td>\n",
              "      <td>0.574479</td>\n",
              "      <td>4.157191</td>\n",
              "      <td>1.428093</td>\n",
              "      <td>-10.511342</td>\n",
              "      <td>0.454664</td>\n",
              "      <td>-1.448363</td>\n",
              "      <td>0</td>\n",
              "    </tr>\n",
              "    <tr>\n",
              "      <th>1</th>\n",
              "      <td>0.389608</td>\n",
              "      <td>-0.512341</td>\n",
              "      <td>0.527053</td>\n",
              "      <td>-2.576776</td>\n",
              "      <td>-1.016766</td>\n",
              "      <td>2.235112</td>\n",
              "      <td>-0.441301</td>\n",
              "      <td>-4.405744</td>\n",
              "      <td>-0.332869</td>\n",
              "      <td>1.966794</td>\n",
              "      <td>...</td>\n",
              "      <td>-2.474936</td>\n",
              "      <td>2.493582</td>\n",
              "      <td>0.315165</td>\n",
              "      <td>2.059288</td>\n",
              "      <td>0.683859</td>\n",
              "      <td>-0.485452</td>\n",
              "      <td>5.128350</td>\n",
              "      <td>1.720744</td>\n",
              "      <td>-1.488235</td>\n",
              "      <td>0</td>\n",
              "    </tr>\n",
              "    <tr>\n",
              "      <th>2</th>\n",
              "      <td>-0.874861</td>\n",
              "      <td>-0.640632</td>\n",
              "      <td>4.084202</td>\n",
              "      <td>-1.590454</td>\n",
              "      <td>0.525855</td>\n",
              "      <td>-1.957592</td>\n",
              "      <td>-0.695367</td>\n",
              "      <td>1.347309</td>\n",
              "      <td>-1.732348</td>\n",
              "      <td>0.466500</td>\n",
              "      <td>...</td>\n",
              "      <td>-1.318888</td>\n",
              "      <td>-2.997464</td>\n",
              "      <td>0.459664</td>\n",
              "      <td>0.619774</td>\n",
              "      <td>5.631504</td>\n",
              "      <td>1.323512</td>\n",
              "      <td>-1.752154</td>\n",
              "      <td>1.808302</td>\n",
              "      <td>1.675748</td>\n",
              "      <td>0</td>\n",
              "    </tr>\n",
              "    <tr>\n",
              "      <th>3</th>\n",
              "      <td>0.238384</td>\n",
              "      <td>1.458607</td>\n",
              "      <td>4.014528</td>\n",
              "      <td>2.534478</td>\n",
              "      <td>1.196987</td>\n",
              "      <td>-3.117330</td>\n",
              "      <td>-0.924035</td>\n",
              "      <td>0.269493</td>\n",
              "      <td>1.322436</td>\n",
              "      <td>0.702345</td>\n",
              "      <td>...</td>\n",
              "      <td>3.517918</td>\n",
              "      <td>-3.074085</td>\n",
              "      <td>-0.284220</td>\n",
              "      <td>0.954576</td>\n",
              "      <td>3.029331</td>\n",
              "      <td>-1.367198</td>\n",
              "      <td>-3.412140</td>\n",
              "      <td>0.906000</td>\n",
              "      <td>-2.450889</td>\n",
              "      <td>0</td>\n",
              "    </tr>\n",
              "    <tr>\n",
              "      <th>4</th>\n",
              "      <td>5.828225</td>\n",
              "      <td>2.768260</td>\n",
              "      <td>-1.234530</td>\n",
              "      <td>2.809264</td>\n",
              "      <td>-1.641648</td>\n",
              "      <td>-1.406698</td>\n",
              "      <td>0.568643</td>\n",
              "      <td>0.965043</td>\n",
              "      <td>1.918379</td>\n",
              "      <td>-2.774855</td>\n",
              "      <td>...</td>\n",
              "      <td>1.773841</td>\n",
              "      <td>-1.501573</td>\n",
              "      <td>-2.226702</td>\n",
              "      <td>4.776830</td>\n",
              "      <td>-6.559698</td>\n",
              "      <td>-0.805551</td>\n",
              "      <td>-0.276007</td>\n",
              "      <td>-3.858207</td>\n",
              "      <td>-0.537694</td>\n",
              "      <td>0</td>\n",
              "    </tr>\n",
              "  </tbody>\n",
              "</table>\n",
              "<p>5 rows × 41 columns</p>\n",
              "</div>\n",
              "    <div class=\"colab-df-buttons\">\n",
              "\n",
              "  <div class=\"colab-df-container\">\n",
              "    <button class=\"colab-df-convert\" onclick=\"convertToInteractive('df-7b1c9305-8dd0-4b90-9913-444ff06ce651')\"\n",
              "            title=\"Convert this dataframe to an interactive table.\"\n",
              "            style=\"display:none;\">\n",
              "\n",
              "  <svg xmlns=\"http://www.w3.org/2000/svg\" height=\"24px\" viewBox=\"0 -960 960 960\">\n",
              "    <path d=\"M120-120v-720h720v720H120Zm60-500h600v-160H180v160Zm220 220h160v-160H400v160Zm0 220h160v-160H400v160ZM180-400h160v-160H180v160Zm440 0h160v-160H620v160ZM180-180h160v-160H180v160Zm440 0h160v-160H620v160Z\"/>\n",
              "  </svg>\n",
              "    </button>\n",
              "\n",
              "  <style>\n",
              "    .colab-df-container {\n",
              "      display:flex;\n",
              "      gap: 12px;\n",
              "    }\n",
              "\n",
              "    .colab-df-convert {\n",
              "      background-color: #E8F0FE;\n",
              "      border: none;\n",
              "      border-radius: 50%;\n",
              "      cursor: pointer;\n",
              "      display: none;\n",
              "      fill: #1967D2;\n",
              "      height: 32px;\n",
              "      padding: 0 0 0 0;\n",
              "      width: 32px;\n",
              "    }\n",
              "\n",
              "    .colab-df-convert:hover {\n",
              "      background-color: #E2EBFA;\n",
              "      box-shadow: 0px 1px 2px rgba(60, 64, 67, 0.3), 0px 1px 3px 1px rgba(60, 64, 67, 0.15);\n",
              "      fill: #174EA6;\n",
              "    }\n",
              "\n",
              "    .colab-df-buttons div {\n",
              "      margin-bottom: 4px;\n",
              "    }\n",
              "\n",
              "    [theme=dark] .colab-df-convert {\n",
              "      background-color: #3B4455;\n",
              "      fill: #D2E3FC;\n",
              "    }\n",
              "\n",
              "    [theme=dark] .colab-df-convert:hover {\n",
              "      background-color: #434B5C;\n",
              "      box-shadow: 0px 1px 3px 1px rgba(0, 0, 0, 0.15);\n",
              "      filter: drop-shadow(0px 1px 2px rgba(0, 0, 0, 0.3));\n",
              "      fill: #FFFFFF;\n",
              "    }\n",
              "  </style>\n",
              "\n",
              "    <script>\n",
              "      const buttonEl =\n",
              "        document.querySelector('#df-7b1c9305-8dd0-4b90-9913-444ff06ce651 button.colab-df-convert');\n",
              "      buttonEl.style.display =\n",
              "        google.colab.kernel.accessAllowed ? 'block' : 'none';\n",
              "\n",
              "      async function convertToInteractive(key) {\n",
              "        const element = document.querySelector('#df-7b1c9305-8dd0-4b90-9913-444ff06ce651');\n",
              "        const dataTable =\n",
              "          await google.colab.kernel.invokeFunction('convertToInteractive',\n",
              "                                                    [key], {});\n",
              "        if (!dataTable) return;\n",
              "\n",
              "        const docLinkHtml = 'Like what you see? Visit the ' +\n",
              "          '<a target=\"_blank\" href=https://colab.research.google.com/notebooks/data_table.ipynb>data table notebook</a>'\n",
              "          + ' to learn more about interactive tables.';\n",
              "        element.innerHTML = '';\n",
              "        dataTable['output_type'] = 'display_data';\n",
              "        await google.colab.output.renderOutput(dataTable, element);\n",
              "        const docLink = document.createElement('div');\n",
              "        docLink.innerHTML = docLinkHtml;\n",
              "        element.appendChild(docLink);\n",
              "      }\n",
              "    </script>\n",
              "  </div>\n",
              "\n",
              "\n",
              "    <div id=\"df-a22e3f3b-17da-4427-9089-273ea558f253\">\n",
              "      <button class=\"colab-df-quickchart\" onclick=\"quickchart('df-a22e3f3b-17da-4427-9089-273ea558f253')\"\n",
              "                title=\"Suggest charts\"\n",
              "                style=\"display:none;\">\n",
              "\n",
              "<svg xmlns=\"http://www.w3.org/2000/svg\" height=\"24px\"viewBox=\"0 0 24 24\"\n",
              "     width=\"24px\">\n",
              "    <g>\n",
              "        <path d=\"M19 3H5c-1.1 0-2 .9-2 2v14c0 1.1.9 2 2 2h14c1.1 0 2-.9 2-2V5c0-1.1-.9-2-2-2zM9 17H7v-7h2v7zm4 0h-2V7h2v10zm4 0h-2v-4h2v4z\"/>\n",
              "    </g>\n",
              "</svg>\n",
              "      </button>\n",
              "\n",
              "<style>\n",
              "  .colab-df-quickchart {\n",
              "      --bg-color: #E8F0FE;\n",
              "      --fill-color: #1967D2;\n",
              "      --hover-bg-color: #E2EBFA;\n",
              "      --hover-fill-color: #174EA6;\n",
              "      --disabled-fill-color: #AAA;\n",
              "      --disabled-bg-color: #DDD;\n",
              "  }\n",
              "\n",
              "  [theme=dark] .colab-df-quickchart {\n",
              "      --bg-color: #3B4455;\n",
              "      --fill-color: #D2E3FC;\n",
              "      --hover-bg-color: #434B5C;\n",
              "      --hover-fill-color: #FFFFFF;\n",
              "      --disabled-bg-color: #3B4455;\n",
              "      --disabled-fill-color: #666;\n",
              "  }\n",
              "\n",
              "  .colab-df-quickchart {\n",
              "    background-color: var(--bg-color);\n",
              "    border: none;\n",
              "    border-radius: 50%;\n",
              "    cursor: pointer;\n",
              "    display: none;\n",
              "    fill: var(--fill-color);\n",
              "    height: 32px;\n",
              "    padding: 0;\n",
              "    width: 32px;\n",
              "  }\n",
              "\n",
              "  .colab-df-quickchart:hover {\n",
              "    background-color: var(--hover-bg-color);\n",
              "    box-shadow: 0 1px 2px rgba(60, 64, 67, 0.3), 0 1px 3px 1px rgba(60, 64, 67, 0.15);\n",
              "    fill: var(--button-hover-fill-color);\n",
              "  }\n",
              "\n",
              "  .colab-df-quickchart-complete:disabled,\n",
              "  .colab-df-quickchart-complete:disabled:hover {\n",
              "    background-color: var(--disabled-bg-color);\n",
              "    fill: var(--disabled-fill-color);\n",
              "    box-shadow: none;\n",
              "  }\n",
              "\n",
              "  .colab-df-spinner {\n",
              "    border: 2px solid var(--fill-color);\n",
              "    border-color: transparent;\n",
              "    border-bottom-color: var(--fill-color);\n",
              "    animation:\n",
              "      spin 1s steps(1) infinite;\n",
              "  }\n",
              "\n",
              "  @keyframes spin {\n",
              "    0% {\n",
              "      border-color: transparent;\n",
              "      border-bottom-color: var(--fill-color);\n",
              "      border-left-color: var(--fill-color);\n",
              "    }\n",
              "    20% {\n",
              "      border-color: transparent;\n",
              "      border-left-color: var(--fill-color);\n",
              "      border-top-color: var(--fill-color);\n",
              "    }\n",
              "    30% {\n",
              "      border-color: transparent;\n",
              "      border-left-color: var(--fill-color);\n",
              "      border-top-color: var(--fill-color);\n",
              "      border-right-color: var(--fill-color);\n",
              "    }\n",
              "    40% {\n",
              "      border-color: transparent;\n",
              "      border-right-color: var(--fill-color);\n",
              "      border-top-color: var(--fill-color);\n",
              "    }\n",
              "    60% {\n",
              "      border-color: transparent;\n",
              "      border-right-color: var(--fill-color);\n",
              "    }\n",
              "    80% {\n",
              "      border-color: transparent;\n",
              "      border-right-color: var(--fill-color);\n",
              "      border-bottom-color: var(--fill-color);\n",
              "    }\n",
              "    90% {\n",
              "      border-color: transparent;\n",
              "      border-bottom-color: var(--fill-color);\n",
              "    }\n",
              "  }\n",
              "</style>\n",
              "\n",
              "      <script>\n",
              "        async function quickchart(key) {\n",
              "          const quickchartButtonEl =\n",
              "            document.querySelector('#' + key + ' button');\n",
              "          quickchartButtonEl.disabled = true;  // To prevent multiple clicks.\n",
              "          quickchartButtonEl.classList.add('colab-df-spinner');\n",
              "          try {\n",
              "            const charts = await google.colab.kernel.invokeFunction(\n",
              "                'suggestCharts', [key], {});\n",
              "          } catch (error) {\n",
              "            console.error('Error during call to suggestCharts:', error);\n",
              "          }\n",
              "          quickchartButtonEl.classList.remove('colab-df-spinner');\n",
              "          quickchartButtonEl.classList.add('colab-df-quickchart-complete');\n",
              "        }\n",
              "        (() => {\n",
              "          let quickchartButtonEl =\n",
              "            document.querySelector('#df-a22e3f3b-17da-4427-9089-273ea558f253 button');\n",
              "          quickchartButtonEl.style.display =\n",
              "            google.colab.kernel.accessAllowed ? 'block' : 'none';\n",
              "        })();\n",
              "      </script>\n",
              "    </div>\n",
              "\n",
              "    </div>\n",
              "  </div>\n"
            ],
            "application/vnd.google.colaboratory.intrinsic+json": {
              "type": "dataframe",
              "variable_name": "test_df"
            }
          },
          "metadata": {},
          "execution_count": 86
        }
      ]
    },
    {
      "cell_type": "markdown",
      "source": [
        "### **Observation**\n",
        "The data loading shows train_df with 2000 rows and 41 columns, and test_df with 5000 rows and 41 columns. The first five rows of both datasets display 40 predictor variables (V1 to V40) and a target variable, with diverse numerical values. Most target values are 0, indicating potential class imbalance."
      ],
      "metadata": {
        "id": "XGWg3s5iKGua"
      }
    },
    {
      "cell_type": "markdown",
      "source": [
        "# **`Exploratory Data Analysis (EDA)`**"
      ],
      "metadata": {
        "id": "5UPJ2EMnK1My"
      }
    },
    {
      "cell_type": "markdown",
      "source": [
        "## **`Data Overview`**"
      ],
      "metadata": {
        "id": "plnGmFJSoMqJ"
      }
    },
    {
      "cell_type": "code",
      "source": [
        "#Exploratory Data Analysis (EDA)\n",
        "##Data Overview\n",
        "print(train_df.info())\n",
        "print(train_df.describe())"
      ],
      "metadata": {
        "id": "pXF2c90cJt_Q",
        "colab": {
          "base_uri": "https://localhost:8080/"
        },
        "outputId": "34084ddc-ef28-4a5d-a9b2-d071b5d2c5f7"
      },
      "execution_count": 87,
      "outputs": [
        {
          "output_type": "stream",
          "name": "stdout",
          "text": [
            "<class 'pandas.core.frame.DataFrame'>\n",
            "RangeIndex: 20000 entries, 0 to 19999\n",
            "Data columns (total 41 columns):\n",
            " #   Column  Non-Null Count  Dtype  \n",
            "---  ------  --------------  -----  \n",
            " 0   V1      19982 non-null  float64\n",
            " 1   V2      19982 non-null  float64\n",
            " 2   V3      20000 non-null  float64\n",
            " 3   V4      20000 non-null  float64\n",
            " 4   V5      20000 non-null  float64\n",
            " 5   V6      20000 non-null  float64\n",
            " 6   V7      20000 non-null  float64\n",
            " 7   V8      20000 non-null  float64\n",
            " 8   V9      20000 non-null  float64\n",
            " 9   V10     20000 non-null  float64\n",
            " 10  V11     20000 non-null  float64\n",
            " 11  V12     20000 non-null  float64\n",
            " 12  V13     20000 non-null  float64\n",
            " 13  V14     20000 non-null  float64\n",
            " 14  V15     20000 non-null  float64\n",
            " 15  V16     20000 non-null  float64\n",
            " 16  V17     20000 non-null  float64\n",
            " 17  V18     20000 non-null  float64\n",
            " 18  V19     20000 non-null  float64\n",
            " 19  V20     20000 non-null  float64\n",
            " 20  V21     20000 non-null  float64\n",
            " 21  V22     20000 non-null  float64\n",
            " 22  V23     20000 non-null  float64\n",
            " 23  V24     20000 non-null  float64\n",
            " 24  V25     20000 non-null  float64\n",
            " 25  V26     20000 non-null  float64\n",
            " 26  V27     20000 non-null  float64\n",
            " 27  V28     20000 non-null  float64\n",
            " 28  V29     20000 non-null  float64\n",
            " 29  V30     20000 non-null  float64\n",
            " 30  V31     20000 non-null  float64\n",
            " 31  V32     20000 non-null  float64\n",
            " 32  V33     20000 non-null  float64\n",
            " 33  V34     20000 non-null  float64\n",
            " 34  V35     20000 non-null  float64\n",
            " 35  V36     20000 non-null  float64\n",
            " 36  V37     20000 non-null  float64\n",
            " 37  V38     20000 non-null  float64\n",
            " 38  V39     20000 non-null  float64\n",
            " 39  V40     20000 non-null  float64\n",
            " 40  Target  20000 non-null  int64  \n",
            "dtypes: float64(40), int64(1)\n",
            "memory usage: 6.3 MB\n",
            "None\n",
            "                 V1            V2            V3            V4            V5  \\\n",
            "count  19982.000000  19982.000000  20000.000000  20000.000000  20000.000000   \n",
            "mean      -0.271996      0.440430      2.484699     -0.083152     -0.053752   \n",
            "std        3.441625      3.150784      3.388963      3.431595      2.104801   \n",
            "min      -11.876451    -12.319951    -10.708139    -15.082052     -8.603361   \n",
            "25%       -2.737146     -1.640674      0.206860     -2.347660     -1.535607   \n",
            "50%       -0.747917      0.471536      2.255786     -0.135241     -0.101952   \n",
            "75%        1.840112      2.543967      4.566165      2.130615      1.340480   \n",
            "max       15.493002     13.089269     17.090919     13.236381      8.133797   \n",
            "\n",
            "                 V6            V7            V8            V9           V10  \\\n",
            "count  20000.000000  20000.000000  20000.000000  20000.000000  20000.000000   \n",
            "mean      -0.995443     -0.879325     -0.548195     -0.016808     -0.012998   \n",
            "std        2.040970      1.761626      3.295756      2.160568      2.193201   \n",
            "min      -10.227147     -7.949681    -15.657561     -8.596313     -9.853957   \n",
            "25%       -2.347238     -2.030926     -2.642665     -1.494973     -1.411212   \n",
            "50%       -1.000515     -0.917179     -0.389085     -0.067597      0.100973   \n",
            "75%        0.380330      0.223695      1.722965      1.409203      1.477045   \n",
            "max        6.975847      8.006091     11.679495      8.137580      8.108472   \n",
            "\n",
            "       ...           V32           V33           V34           V35  \\\n",
            "count  ...  20000.000000  20000.000000  20000.000000  20000.000000   \n",
            "mean   ...      0.303799      0.049825     -0.462702      2.229620   \n",
            "std    ...      5.500400      3.575285      3.183841      2.937102   \n",
            "min    ...    -19.876502    -16.898353    -17.985094    -15.349803   \n",
            "25%    ...     -3.420469     -2.242857     -2.136984      0.336191   \n",
            "50%    ...      0.052073     -0.066249     -0.255008      2.098633   \n",
            "75%    ...      3.761722      2.255134      1.436935      4.064358   \n",
            "max    ...     23.633187     16.692486     14.358213     15.291065   \n",
            "\n",
            "                V36           V37           V38           V39           V40  \\\n",
            "count  20000.000000  20000.000000  20000.000000  20000.000000  20000.000000   \n",
            "mean       1.514809      0.011316     -0.344025      0.890653     -0.875630   \n",
            "std        3.800860      1.788165      3.948147      1.753054      3.012155   \n",
            "min      -14.833178     -5.478350    -17.375002     -6.438880    -11.023935   \n",
            "25%       -0.943809     -1.255819     -2.987638     -0.272250     -2.940193   \n",
            "50%        1.566526     -0.128435     -0.316849      0.919261     -0.920806   \n",
            "75%        3.983939      1.175533      2.279399      2.057540      1.119897   \n",
            "max       19.329576      7.467006     15.289923      7.759877     10.654265   \n",
            "\n",
            "             Target  \n",
            "count  20000.000000  \n",
            "mean       0.055500  \n",
            "std        0.228959  \n",
            "min        0.000000  \n",
            "25%        0.000000  \n",
            "50%        0.000000  \n",
            "75%        0.000000  \n",
            "max        1.000000  \n",
            "\n",
            "[8 rows x 41 columns]\n"
          ]
        }
      ]
    },
    {
      "cell_type": "markdown",
      "source": [
        "## ***Observation***\n",
        "\n",
        "* total 41 columns and 20000 entries, 0 to 19999\n",
        "* Missing values in 'V1' and 'V2"
      ],
      "metadata": {
        "id": "rkw9ZKMAJxn5"
      }
    },
    {
      "cell_type": "code",
      "source": [
        "# Check for missing values\n",
        "print(\"Missing values in train:\", train_df.isnull().sum().sum())\n",
        "print(\"Missing values in test:\", test_df.isnull().sum().sum())"
      ],
      "metadata": {
        "id": "gZXOtz6yMXt8",
        "colab": {
          "base_uri": "https://localhost:8080/"
        },
        "outputId": "5b1b1ce0-e933-41fb-e644-9b4f112df076"
      },
      "execution_count": 88,
      "outputs": [
        {
          "output_type": "stream",
          "name": "stdout",
          "text": [
            "Missing values in train: 36\n",
            "Missing values in test: 11\n"
          ]
        }
      ]
    },
    {
      "cell_type": "markdown",
      "source": [
        "## ***Observation***\n",
        "The code checks for missing values, showing 36 missing entries in the training dataset and 11 in the test dataset, indicating the need for data preprocessing to address these gaps."
      ],
      "metadata": {
        "id": "oWxflq_8LRNb"
      }
    },
    {
      "cell_type": "code",
      "source": [
        "# Target distribution (Univariate Analysis)\n",
        "plt.figure(figsize=(6,4))\n",
        "sns.countplot(x='Target', data=train_df)\n",
        "plt.title('Target Distribution')\n",
        "plt.show()\n",
        "\n",
        "print(\"Class distribution:\\n\", train_df['Target'].value_counts(normalize=True))"
      ],
      "metadata": {
        "id": "EZr8WfY_Mc6L",
        "colab": {
          "base_uri": "https://localhost:8080/",
          "height": 497
        },
        "outputId": "86bdfbcb-cff9-4373-c309-036acd446d81"
      },
      "execution_count": 89,
      "outputs": [
        {
          "output_type": "display_data",
          "data": {
            "text/plain": [
              "<Figure size 600x400 with 1 Axes>"
            ],
            "image/png": "[encoded data removed]"
          },
          "metadata": {}
        },
        {
          "output_type": "stream",
          "name": "stdout",
          "text": [
            "Class distribution:\n",
            " Target\n",
            "0    0.9445\n",
            "1    0.0555\n",
            "Name: proportion, dtype: float64\n"
          ]
        }
      ]
    },
    {
      "cell_type": "markdown",
      "source": [
        "## ***Observation***\n",
        "chart shows the distribution of the \"Target\" variable in the dataset. There are two classes: 0 and 1. Class 0 has about 0.9445 (or 94.45%) of the data, while class 1 has about 0.0555 (or 5.55%).That means the dataset is heavily skewed toward \"No Failure\" cases\n"
      ],
      "metadata": {
        "id": "YXMDeRb7Lsou"
      }
    },
    {
      "cell_type": "markdown",
      "source": [
        "## **`Univariate Analysis`**"
      ],
      "metadata": {
        "id": "VhX3Mqxrn50m"
      }
    },
    {
      "cell_type": "code",
      "source": [
        "# Univariate Analysis\n",
        "# Histograms for a few features (e.g., V1 to V5)\n",
        "train_df.iloc[:, :5].hist(bins=20, figsize=(12,8))\n",
        "plt.suptitle('Univariate Histograms')\n",
        "plt.show()"
      ],
      "metadata": {
        "id": "_78EC925Mg5M",
        "colab": {
          "base_uri": "https://localhost:8080/",
          "height": 756
        },
        "outputId": "ca7c914e-e9df-4e9f-d03d-2d89a9f68dbd"
      },
      "execution_count": 90,
      "outputs": [
        {
          "output_type": "display_data",
          "data": {
            "text/plain": [
              "<Figure size 1200x800 with 6 Axes>"
            ],
            "image/png": "[encoded data removed]"
          },
          "metadata": {}
        }
      ]
    },
    {
      "cell_type": "markdown",
      "source": [
        "## ***Observation***\n",
        "\n",
        "Histograms show the distribution of five features (V1 to V5) in the dataset.\n",
        "\n",
        "* V1: Most values cluster around -2.5 to 0, with a peak around -2.\n",
        "* V2: Values are mostly between -5 and 5, peaking around 0-2.\n",
        "* V3: Similar to V1, with a big peak around 0-5.\n",
        "* V4: Spreads from -15 to 10, with a strong peak around 0-5.\n",
        "* V5: Mostly between -7.5 and 7.5, peaking around 0-2.5."
      ],
      "metadata": {
        "id": "H-LGgkeMMwQU"
      }
    },
    {
      "cell_type": "markdown",
      "source": [
        "## **`Bivariate Analysis`**"
      ],
      "metadata": {
        "id": "Xhn_yGwHoUKE"
      }
    },
    {
      "cell_type": "code",
      "source": [
        "## Bivariate Analysis\n",
        "# Correlation heatmap\n",
        "plt.figure(figsize=(14,12))\n",
        "corr = train_df.corr()\n",
        "sns.heatmap(corr, cmap='coolwarm', annot=False)\n",
        "plt.title('Correlation Heatmap')\n",
        "plt.show()"
      ],
      "metadata": {
        "id": "HW9yY3LXOAvi",
        "colab": {
          "base_uri": "https://localhost:8080/",
          "height": 1000
        },
        "outputId": "60c4fc91-8570-49ce-e230-a91a238ae7c7"
      },
      "execution_count": 91,
      "outputs": [
        {
          "output_type": "display_data",
          "data": {
            "text/plain": [
              "<Figure size 1400x1200 with 2 Axes>"
            ],
            "image/png": "[encoded data removed]"
          },
          "metadata": {}
        }
      ]
    },
    {
      "cell_type": "markdown",
      "source": [
        "## ***Observation***\n",
        "Correlation heatmap shows how the features (V1 to V40) and the target variable relate to each other. The red diagonal line means each feature is perfectly correlated with itself (1.0). Most other correlations are weaker, with colors ranging from blue (negative) to red (positive). The target variable (at the bottom) shows some weak to moderate correlations with a few features, like V4 and V13, but nothing super strong. Overall, it looks like the features aren’t too highly correlated with each other or the target!"
      ],
      "metadata": {
        "id": "2LinO18aSlqG"
      }
    },
    {
      "cell_type": "code",
      "source": [
        "#Boxplots for features vs target (e.g., V1 to V3)\n",
        "for col in ['V1', 'V2', 'V3']:\n",
        "    plt.figure(figsize=(6,4))\n",
        "    sns.boxplot(x='Target', y=col, data=train_df)\n",
        "    plt.title(f'{col} vs Target')\n",
        "    plt.show()"
      ],
      "metadata": {
        "id": "HjkBbYQzPeXQ",
        "colab": {
          "base_uri": "https://localhost:8080/",
          "height": 1000
        },
        "outputId": "d7ee736e-be05-4b63-877f-4b54f9cdc3b9"
      },
      "execution_count": 92,
      "outputs": [
        {
          "output_type": "display_data",
          "data": {
            "text/plain": [
              "<Figure size 600x400 with 1 Axes>"
            ],
            "image/png": "[encoded data removed]"
          },
          "metadata": {}
        },
        {
          "output_type": "display_data",
          "data": {
            "text/plain": [
              "<Figure size 600x400 with 1 Axes>"
            ],
            "image/png": "[encoded data removed]"
          },
          "metadata": {}
        },
        {
          "output_type": "display_data",
          "data": {
            "text/plain": [
              "<Figure size 600x400 with 1 Axes>"
            ],
            "image/png": "[encoded data removed]"
          },
          "metadata": {}
        }
      ]
    },
    {
      "cell_type": "markdown",
      "source": [
        "## ***Observsation***\n",
        "\n",
        "box plots show how V1, V2, and V3 values are distributed for the \"No Failure\" (0) and \"Failure\" (1) target classes.\n",
        "\n",
        "* **V1 vs Target:** For \"No Failure\" (0), V1 values range mostly between -5 and 10, with a few outliers. For \"Failure\" (1), the range is similar, around -5 to 10, with some outliers too.\n",
        "* **V2 vs Target:** Both \"No Failure\" (0) and \"Failure\" (1) have V2 values mostly between -10 and 10, with a few outliers on the lower end for \"No Failure.\"\n",
        "* **V3 vs Target:** \"No Failure\" (0) values are mostly between -5 and 10, while \"Failure\" (1) values are tighter around 0 to 5, with some outliers on both sides.\n",
        "The distributions look pretty similar between the two classes for all three features!"
      ],
      "metadata": {
        "id": "G75nCg8aTsDr"
      }
    },
    {
      "cell_type": "markdown",
      "source": [
        "# **`Data Preprocessing`**"
      ],
      "metadata": {
        "id": "VBkVt6boULhF"
      }
    },
    {
      "cell_type": "markdown",
      "source": [
        "## **`Prepare the data for modeling`**"
      ],
      "metadata": {
        "id": "CljjIffdpjUq"
      }
    },
    {
      "cell_type": "code",
      "source": [
        "# Data Preprocessing\n",
        "# Separate features and target\n",
        "X_train_full = train_df.drop('Target', axis=1)\n",
        "y_train_full = train_df['Target']\n",
        "\n",
        "X_test = test_df.drop('Target', axis=1)\n",
        "y_test = test_df['Target']"
      ],
      "metadata": {
        "id": "1fJuvSxRPj8K"
      },
      "execution_count": 93,
      "outputs": []
    },
    {
      "cell_type": "markdown",
      "source": [
        "## **`Missing value treatment*Ensure there's no data leakage`**"
      ],
      "metadata": {
        "id": "90zBC_6HpviM"
      }
    },
    {
      "cell_type": "code",
      "source": [
        "# Handle missing values (from EDA likely none)\n",
        "# For demonstration: fill with mean\n",
        "X_train_full.fillna(X_train_full.mean(), inplace=True)\n",
        "X_test.fillna(X_test.mean(), inplace=True)"
      ],
      "metadata": {
        "id": "JqrapkT0PxkP"
      },
      "execution_count": 94,
      "outputs": []
    },
    {
      "cell_type": "code",
      "source": [
        "X_train_full.info()\n",
        "X_test.info()"
      ],
      "metadata": {
        "id": "5CJsi5mVqMlF",
        "colab": {
          "base_uri": "https://localhost:8080/"
        },
        "outputId": "bb773df2-e187-42fa-a7cc-5998ef795503"
      },
      "execution_count": 95,
      "outputs": [
        {
          "output_type": "stream",
          "name": "stdout",
          "text": [
            "<class 'pandas.core.frame.DataFrame'>\n",
            "RangeIndex: 20000 entries, 0 to 19999\n",
            "Data columns (total 40 columns):\n",
            " #   Column  Non-Null Count  Dtype  \n",
            "---  ------  --------------  -----  \n",
            " 0   V1      20000 non-null  float64\n",
            " 1   V2      20000 non-null  float64\n",
            " 2   V3      20000 non-null  float64\n",
            " 3   V4      20000 non-null  float64\n",
            " 4   V5      20000 non-null  float64\n",
            " 5   V6      20000 non-null  float64\n",
            " 6   V7      20000 non-null  float64\n",
            " 7   V8      20000 non-null  float64\n",
            " 8   V9      20000 non-null  float64\n",
            " 9   V10     20000 non-null  float64\n",
            " 10  V11     20000 non-null  float64\n",
            " 11  V12     20000 non-null  float64\n",
            " 12  V13     20000 non-null  float64\n",
            " 13  V14     20000 non-null  float64\n",
            " 14  V15     20000 non-null  float64\n",
            " 15  V16     20000 non-null  float64\n",
            " 16  V17     20000 non-null  float64\n",
            " 17  V18     20000 non-null  float64\n",
            " 18  V19     20000 non-null  float64\n",
            " 19  V20     20000 non-null  float64\n",
            " 20  V21     20000 non-null  float64\n",
            " 21  V22     20000 non-null  float64\n",
            " 22  V23     20000 non-null  float64\n",
            " 23  V24     20000 non-null  float64\n",
            " 24  V25     20000 non-null  float64\n",
            " 25  V26     20000 non-null  float64\n",
            " 26  V27     20000 non-null  float64\n",
            " 27  V28     20000 non-null  float64\n",
            " 28  V29     20000 non-null  float64\n",
            " 29  V30     20000 non-null  float64\n",
            " 30  V31     20000 non-null  float64\n",
            " 31  V32     20000 non-null  float64\n",
            " 32  V33     20000 non-null  float64\n",
            " 33  V34     20000 non-null  float64\n",
            " 34  V35     20000 non-null  float64\n",
            " 35  V36     20000 non-null  float64\n",
            " 36  V37     20000 non-null  float64\n",
            " 37  V38     20000 non-null  float64\n",
            " 38  V39     20000 non-null  float64\n",
            " 39  V40     20000 non-null  float64\n",
            "dtypes: float64(40)\n",
            "memory usage: 6.1 MB\n",
            "<class 'pandas.core.frame.DataFrame'>\n",
            "RangeIndex: 5000 entries, 0 to 4999\n",
            "Data columns (total 40 columns):\n",
            " #   Column  Non-Null Count  Dtype  \n",
            "---  ------  --------------  -----  \n",
            " 0   V1      5000 non-null   float64\n",
            " 1   V2      5000 non-null   float64\n",
            " 2   V3      5000 non-null   float64\n",
            " 3   V4      5000 non-null   float64\n",
            " 4   V5      5000 non-null   float64\n",
            " 5   V6      5000 non-null   float64\n",
            " 6   V7      5000 non-null   float64\n",
            " 7   V8      5000 non-null   float64\n",
            " 8   V9      5000 non-null   float64\n",
            " 9   V10     5000 non-null   float64\n",
            " 10  V11     5000 non-null   float64\n",
            " 11  V12     5000 non-null   float64\n",
            " 12  V13     5000 non-null   float64\n",
            " 13  V14     5000 non-null   float64\n",
            " 14  V15     5000 non-null   float64\n",
            " 15  V16     5000 non-null   float64\n",
            " 16  V17     5000 non-null   float64\n",
            " 17  V18     5000 non-null   float64\n",
            " 18  V19     5000 non-null   float64\n",
            " 19  V20     5000 non-null   float64\n",
            " 20  V21     5000 non-null   float64\n",
            " 21  V22     5000 non-null   float64\n",
            " 22  V23     5000 non-null   float64\n",
            " 23  V24     5000 non-null   float64\n",
            " 24  V25     5000 non-null   float64\n",
            " 25  V26     5000 non-null   float64\n",
            " 26  V27     5000 non-null   float64\n",
            " 27  V28     5000 non-null   float64\n",
            " 28  V29     5000 non-null   float64\n",
            " 29  V30     5000 non-null   float64\n",
            " 30  V31     5000 non-null   float64\n",
            " 31  V32     5000 non-null   float64\n",
            " 32  V33     5000 non-null   float64\n",
            " 33  V34     5000 non-null   float64\n",
            " 34  V35     5000 non-null   float64\n",
            " 35  V36     5000 non-null   float64\n",
            " 36  V37     5000 non-null   float64\n",
            " 37  V38     5000 non-null   float64\n",
            " 38  V39     5000 non-null   float64\n",
            " 39  V40     5000 non-null   float64\n",
            "dtypes: float64(40)\n",
            "memory usage: 1.5 MB\n"
          ]
        }
      ]
    },
    {
      "cell_type": "code",
      "source": [
        "# Scale features\n",
        "scaler = StandardScaler()\n",
        "X_train_full_scaled = scaler.fit_transform(X_train_full)\n",
        "X_test_scaled = scaler.transform(X_test)"
      ],
      "metadata": {
        "id": "Q33In1tzP0j2"
      },
      "execution_count": 96,
      "outputs": []
    },
    {
      "cell_type": "code",
      "source": [
        "# Split train into train and validation (80/20)\n",
        "X_train, X_val, y_train, y_val = train_test_split(X_train_full_scaled, y_train_full, test_size=0.2, random_state=42, stratify=y_train_full)\n",
        "\n",
        "# Handle class imbalance with class weights\n",
        "class_weights = compute_class_weight('balanced', classes=np.unique(y_train), y=y_train)\n",
        "class_weight_dict = dict(zip(np.unique(y_train), class_weights))\n",
        "print(\"Class weights:\", class_weight_dict)\n",
        "\n",
        "# Optionally, use SMOTE for oversampling (but I'll use class weights primarily)\n",
        "# smote = SMOTE(random_state=42)\n",
        "# X_train_res, y_train_res = smote.fit_resample(X_train, y_train)\n",
        "# For now, stick with class weights to avoid data leakage"
      ],
      "metadata": {
        "id": "G6wHjIdFP2dH",
        "colab": {
          "base_uri": "https://localhost:8080/"
        },
        "outputId": "4e373e77-9a30-4eed-c8c6-16572ef4655d"
      },
      "execution_count": 97,
      "outputs": [
        {
          "output_type": "stream",
          "name": "stdout",
          "text": [
            "Class weights: {np.int64(0): np.float64(0.5293806246691372), np.int64(1): np.float64(9.00900900900901)}\n"
          ]
        }
      ]
    },
    {
      "cell_type": "markdown",
      "source": [
        "## ***Observation***\n",
        "\n",
        "Using a StandardScaler and splits the data into training and validation sets. It then calculates class weights to handle the imbalance between \"No Failure\" (0) and \"Failure\" (1) classes. The output shows the class weights: 0 gets a weight of about 0.529 (less than 1), and 1 gets a weight of about 9.009 (much higher), reflecting the imbalance where \"Failure\" is much rarer. This helps the model pay more attention to the \"Failure\" class during training!"
      ],
      "metadata": {
        "id": "mAHtI0L4WGl0"
      }
    },
    {
      "cell_type": "markdown",
      "source": [
        "# **`Model Building`**"
      ],
      "metadata": {
        "id": "1tr0fvP9WSt3"
      }
    },
    {
      "cell_type": "markdown",
      "source": [
        "# **` Baseline Neural Network with SGD and choose the metrics of choice with a rational`**"
      ],
      "metadata": {
        "id": "xNhOgH7HtHbl"
      }
    },
    {
      "cell_type": "code",
      "source": [
        "# Model Building - Baseline Neural Network with SGD,  choose the metrics of choice with a rational\n",
        "\n",
        "def build_baseline_model():\n",
        "    model = Sequential()\n",
        "    model.add(Dense(64, input_dim=40, activation='relu'))\n",
        "    model.add(Dense(32, activation='relu'))\n",
        "    model.add(Dense(1, activation='sigmoid'))\n",
        "    model.compile(optimizer=SGD(learning_rate=0.01), loss='binary_crossentropy', metrics=['accuracy'])\n",
        "    return model\n",
        "\n",
        "baseline_model = build_baseline_model()\n",
        "baseline_model.summary()\n",
        "\n",
        "# Early stopping\n",
        "early_stop = EarlyStopping(monitor='val_loss', patience=10, restore_best_weights=True)\n",
        "\n",
        "# Train baseline\n",
        "history_baseline = baseline_model.fit(X_train, y_train, validation_data=(X_val, y_val),\n",
        "                                      epochs=100, batch_size=32, class_weight=class_weight_dict,\n",
        "                                      callbacks=[early_stop], verbose=1)"
      ],
      "metadata": {
        "colab": {
          "base_uri": "https://localhost:8080/",
          "height": 1000
        },
        "id": "4N1pSor7P7Jm",
        "outputId": "1092fbc9-dd1a-42bb-8b6d-2d60941450c9"
      },
      "execution_count": 98,
      "outputs": [
        {
          "output_type": "display_data",
          "data": {
            "text/plain": [
              "\u001b[1mModel: \"sequential_12\"\u001b[0m\n"
            ],
            "text/html": [
              "<pre style=\"white-space:pre;overflow-x:auto;line-height:normal;font-family:Menlo,'DejaVu Sans Mono',consolas,'Courier New',monospace\"><span style=\"font-weight: bold\">Model: \"sequential_12\"</span>\n",
              "</pre>\n"
            ]
          },
          "metadata": {}
        },
        {
          "output_type": "display_data",
          "data": {
            "text/plain": [
              "┏━━━━━━━━━━━━━━━━━━━━━━━━━━━━━━━━━┳━━━━━━━━━━━━━━━━━━━━━━━━┳━━━━━━━━━━━━━━━┓\n",
              "┃\u001b[1m \u001b[0m\u001b[1mLayer (type)                   \u001b[0m\u001b[1m \u001b[0m┃\u001b[1m \u001b[0m\u001b[1mOutput Shape          \u001b[0m\u001b[1m \u001b[0m┃\u001b[1m \u001b[0m\u001b[1m      Param #\u001b[0m\u001b[1m \u001b[0m┃\n",
              "┡━━━━━━━━━━━━━━━━━━━━━━━━━━━━━━━━━╇━━━━━━━━━━━━━━━━━━━━━━━━╇━━━━━━━━━━━━━━━┩\n",
              "│ dense_39 (\u001b[38;5;33mDense\u001b[0m)                │ (\u001b[38;5;45mNone\u001b[0m, \u001b[38;5;34m64\u001b[0m)             │         \u001b[38;5;34m2,624\u001b[0m │\n",
              "├─────────────────────────────────┼────────────────────────┼───────────────┤\n",
              "│ dense_40 (\u001b[38;5;33mDense\u001b[0m)                │ (\u001b[38;5;45mNone\u001b[0m, \u001b[38;5;34m32\u001b[0m)             │         \u001b[38;5;34m2,080\u001b[0m │\n",
              "├─────────────────────────────────┼────────────────────────┼───────────────┤\n",
              "│ dense_41 (\u001b[38;5;33mDense\u001b[0m)                │ (\u001b[38;5;45mNone\u001b[0m, \u001b[38;5;34m1\u001b[0m)              │            \u001b[38;5;34m33\u001b[0m │\n",
              "└─────────────────────────────────┴────────────────────────┴───────────────┘\n"
            ],
            "text/html": [
              "<pre style=\"white-space:pre;overflow-x:auto;line-height:normal;font-family:Menlo,'DejaVu Sans Mono',consolas,'Courier New',monospace\">┏━━━━━━━━━━━━━━━━━━━━━━━━━━━━━━━━━┳━━━━━━━━━━━━━━━━━━━━━━━━┳━━━━━━━━━━━━━━━┓\n",
              "┃<span style=\"font-weight: bold\"> Layer (type)                    </span>┃<span style=\"font-weight: bold\"> Output Shape           </span>┃<span style=\"font-weight: bold\">       Param # </span>┃\n",
              "┡━━━━━━━━━━━━━━━━━━━━━━━━━━━━━━━━━╇━━━━━━━━━━━━━━━━━━━━━━━━╇━━━━━━━━━━━━━━━┩\n",
              "│ dense_39 (<span style=\"color: #0087ff; text-decoration-color: #0087ff\">Dense</span>)                │ (<span style=\"color: #00d7ff; text-decoration-color: #00d7ff\">None</span>, <span style=\"color: #00af00; text-decoration-color: #00af00\">64</span>)             │         <span style=\"color: #00af00; text-decoration-color: #00af00\">2,624</span> │\n",
              "├─────────────────────────────────┼────────────────────────┼───────────────┤\n",
              "│ dense_40 (<span style=\"color: #0087ff; text-decoration-color: #0087ff\">Dense</span>)                │ (<span style=\"color: #00d7ff; text-decoration-color: #00d7ff\">None</span>, <span style=\"color: #00af00; text-decoration-color: #00af00\">32</span>)             │         <span style=\"color: #00af00; text-decoration-color: #00af00\">2,080</span> │\n",
              "├─────────────────────────────────┼────────────────────────┼───────────────┤\n",
              "│ dense_41 (<span style=\"color: #0087ff; text-decoration-color: #0087ff\">Dense</span>)                │ (<span style=\"color: #00d7ff; text-decoration-color: #00d7ff\">None</span>, <span style=\"color: #00af00; text-decoration-color: #00af00\">1</span>)              │            <span style=\"color: #00af00; text-decoration-color: #00af00\">33</span> │\n",
              "└─────────────────────────────────┴────────────────────────┴───────────────┘\n",
              "</pre>\n"
            ]
          },
          "metadata": {}
        },
        {
          "output_type": "display_data",
          "data": {
            "text/plain": [
              "\u001b[1m Total params: \u001b[0m\u001b[38;5;34m4,737\u001b[0m (18.50 KB)\n"
            ],
            "text/html": [
              "<pre style=\"white-space:pre;overflow-x:auto;line-height:normal;font-family:Menlo,'DejaVu Sans Mono',consolas,'Courier New',monospace\"><span style=\"font-weight: bold\"> Total params: </span><span style=\"color: #00af00; text-decoration-color: #00af00\">4,737</span> (18.50 KB)\n",
              "</pre>\n"
            ]
          },
          "metadata": {}
        },
        {
          "output_type": "display_data",
          "data": {
            "text/plain": [
              "\u001b[1m Trainable params: \u001b[0m\u001b[38;5;34m4,737\u001b[0m (18.50 KB)\n"
            ],
            "text/html": [
              "<pre style=\"white-space:pre;overflow-x:auto;line-height:normal;font-family:Menlo,'DejaVu Sans Mono',consolas,'Courier New',monospace\"><span style=\"font-weight: bold\"> Trainable params: </span><span style=\"color: #00af00; text-decoration-color: #00af00\">4,737</span> (18.50 KB)\n",
              "</pre>\n"
            ]
          },
          "metadata": {}
        },
        {
          "output_type": "display_data",
          "data": {
            "text/plain": [
              "\u001b[1m Non-trainable params: \u001b[0m\u001b[38;5;34m0\u001b[0m (0.00 B)\n"
            ],
            "text/html": [
              "<pre style=\"white-space:pre;overflow-x:auto;line-height:normal;font-family:Menlo,'DejaVu Sans Mono',consolas,'Courier New',monospace\"><span style=\"font-weight: bold\"> Non-trainable params: </span><span style=\"color: #00af00; text-decoration-color: #00af00\">0</span> (0.00 B)\n",
              "</pre>\n"
            ]
          },
          "metadata": {}
        },
        {
          "output_type": "stream",
          "name": "stdout",
          "text": [
            "Epoch 1/100\n",
            "\u001b[1m500/500\u001b[0m \u001b[32m━━━━━━━━━━━━━━━━━━━━\u001b[0m\u001b[37m\u001b[0m \u001b[1m2s\u001b[0m 3ms/step - accuracy: 0.7299 - loss: 0.4473 - val_accuracy: 0.8860 - val_loss: 0.3319\n",
            "Epoch 2/100\n",
            "\u001b[1m500/500\u001b[0m \u001b[32m━━━━━━━━━━━━━━━━━━━━\u001b[0m\u001b[37m\u001b[0m \u001b[1m2s\u001b[0m 2ms/step - accuracy: 0.9051 - loss: 0.2905 - val_accuracy: 0.9155 - val_loss: 0.2639\n",
            "Epoch 3/100\n",
            "\u001b[1m500/500\u001b[0m \u001b[32m━━━━━━━━━━━━━━━━━━━━\u001b[0m\u001b[37m\u001b[0m \u001b[1m2s\u001b[0m 3ms/step - accuracy: 0.9267 - loss: 0.2560 - val_accuracy: 0.9312 - val_loss: 0.2295\n",
            "Epoch 4/100\n",
            "\u001b[1m500/500\u001b[0m \u001b[32m━━━━━━━━━━━━━━━━━━━━\u001b[0m\u001b[37m\u001b[0m \u001b[1m2s\u001b[0m 3ms/step - accuracy: 0.9412 - loss: 0.2352 - val_accuracy: 0.9427 - val_loss: 0.2076\n",
            "Epoch 5/100\n",
            "\u001b[1m500/500\u001b[0m \u001b[32m━━━━━━━━━━━━━━━━━━━━\u001b[0m\u001b[37m\u001b[0m \u001b[1m2s\u001b[0m 2ms/step - accuracy: 0.9527 - loss: 0.2207 - val_accuracy: 0.9485 - val_loss: 0.1933\n",
            "Epoch 6/100\n",
            "\u001b[1m500/500\u001b[0m \u001b[32m━━━━━━━━━━━━━━━━━━━━\u001b[0m\u001b[37m\u001b[0m \u001b[1m1s\u001b[0m 2ms/step - accuracy: 0.9586 - loss: 0.2097 - val_accuracy: 0.9528 - val_loss: 0.1811\n",
            "Epoch 7/100\n",
            "\u001b[1m500/500\u001b[0m \u001b[32m━━━━━━━━━━━━━━━━━━━━\u001b[0m\u001b[37m\u001b[0m \u001b[1m1s\u001b[0m 2ms/step - accuracy: 0.9642 - loss: 0.2012 - val_accuracy: 0.9595 - val_loss: 0.1718\n",
            "Epoch 8/100\n",
            "\u001b[1m500/500\u001b[0m \u001b[32m━━━━━━━━━━━━━━━━━━━━\u001b[0m\u001b[37m\u001b[0m \u001b[1m1s\u001b[0m 2ms/step - accuracy: 0.9662 - loss: 0.1942 - val_accuracy: 0.9635 - val_loss: 0.1637\n",
            "Epoch 9/100\n",
            "\u001b[1m500/500\u001b[0m \u001b[32m━━━━━━━━━━━━━━━━━━━━\u001b[0m\u001b[37m\u001b[0m \u001b[1m1s\u001b[0m 2ms/step - accuracy: 0.9683 - loss: 0.1887 - val_accuracy: 0.9665 - val_loss: 0.1580\n",
            "Epoch 10/100\n",
            "\u001b[1m500/500\u001b[0m \u001b[32m━━━━━━━━━━━━━━━━━━━━\u001b[0m\u001b[37m\u001b[0m \u001b[1m1s\u001b[0m 2ms/step - accuracy: 0.9707 - loss: 0.1838 - val_accuracy: 0.9690 - val_loss: 0.1541\n",
            "Epoch 11/100\n",
            "\u001b[1m500/500\u001b[0m \u001b[32m━━━━━━━━━━━━━━━━━━━━\u001b[0m\u001b[37m\u001b[0m \u001b[1m1s\u001b[0m 2ms/step - accuracy: 0.9722 - loss: 0.1797 - val_accuracy: 0.9703 - val_loss: 0.1481\n",
            "Epoch 12/100\n",
            "\u001b[1m500/500\u001b[0m \u001b[32m━━━━━━━━━━━━━━━━━━━━\u001b[0m\u001b[37m\u001b[0m \u001b[1m2s\u001b[0m 3ms/step - accuracy: 0.9733 - loss: 0.1759 - val_accuracy: 0.9712 - val_loss: 0.1454\n",
            "Epoch 13/100\n",
            "\u001b[1m500/500\u001b[0m \u001b[32m━━━━━━━━━━━━━━━━━━━━\u001b[0m\u001b[37m\u001b[0m \u001b[1m2s\u001b[0m 2ms/step - accuracy: 0.9741 - loss: 0.1727 - val_accuracy: 0.9722 - val_loss: 0.1445\n",
            "Epoch 14/100\n",
            "\u001b[1m500/500\u001b[0m \u001b[32m━━━━━━━━━━━━━━━━━━━━\u001b[0m\u001b[37m\u001b[0m \u001b[1m1s\u001b[0m 2ms/step - accuracy: 0.9750 - loss: 0.1695 - val_accuracy: 0.9715 - val_loss: 0.1420\n",
            "Epoch 15/100\n",
            "\u001b[1m500/500\u001b[0m \u001b[32m━━━━━━━━━━━━━━━━━━━━\u001b[0m\u001b[37m\u001b[0m \u001b[1m1s\u001b[0m 2ms/step - accuracy: 0.9752 - loss: 0.1663 - val_accuracy: 0.9728 - val_loss: 0.1395\n",
            "Epoch 16/100\n",
            "\u001b[1m500/500\u001b[0m \u001b[32m━━━━━━━━━━━━━━━━━━━━\u001b[0m\u001b[37m\u001b[0m \u001b[1m1s\u001b[0m 2ms/step - accuracy: 0.9761 - loss: 0.1635 - val_accuracy: 0.9745 - val_loss: 0.1375\n",
            "Epoch 17/100\n",
            "\u001b[1m500/500\u001b[0m \u001b[32m━━━━━━━━━━━━━━━━━━━━\u001b[0m\u001b[37m\u001b[0m \u001b[1m1s\u001b[0m 2ms/step - accuracy: 0.9765 - loss: 0.1606 - val_accuracy: 0.9753 - val_loss: 0.1353\n",
            "Epoch 18/100\n",
            "\u001b[1m500/500\u001b[0m \u001b[32m━━━━━━━━━━━━━━━━━━━━\u001b[0m\u001b[37m\u001b[0m \u001b[1m1s\u001b[0m 2ms/step - accuracy: 0.9768 - loss: 0.1577 - val_accuracy: 0.9758 - val_loss: 0.1335\n",
            "Epoch 19/100\n",
            "\u001b[1m500/500\u001b[0m \u001b[32m━━━━━━━━━━━━━━━━━━━━\u001b[0m\u001b[37m\u001b[0m \u001b[1m1s\u001b[0m 2ms/step - accuracy: 0.9772 - loss: 0.1548 - val_accuracy: 0.9755 - val_loss: 0.1314\n",
            "Epoch 20/100\n",
            "\u001b[1m500/500\u001b[0m \u001b[32m━━━━━━━━━━━━━━━━━━━━\u001b[0m\u001b[37m\u001b[0m \u001b[1m1s\u001b[0m 2ms/step - accuracy: 0.9776 - loss: 0.1525 - val_accuracy: 0.9760 - val_loss: 0.1310\n",
            "Epoch 21/100\n",
            "\u001b[1m500/500\u001b[0m \u001b[32m━━━━━━━━━━━━━━━━━━━━\u001b[0m\u001b[37m\u001b[0m \u001b[1m1s\u001b[0m 2ms/step - accuracy: 0.9781 - loss: 0.1502 - val_accuracy: 0.9758 - val_loss: 0.1299\n",
            "Epoch 22/100\n",
            "\u001b[1m500/500\u001b[0m \u001b[32m━━━━━━━━━━━━━━━━━━━━\u001b[0m\u001b[37m\u001b[0m \u001b[1m2s\u001b[0m 3ms/step - accuracy: 0.9788 - loss: 0.1476 - val_accuracy: 0.9765 - val_loss: 0.1287\n",
            "Epoch 23/100\n",
            "\u001b[1m500/500\u001b[0m \u001b[32m━━━━━━━━━━━━━━━━━━━━\u001b[0m\u001b[37m\u001b[0m \u001b[1m2s\u001b[0m 2ms/step - accuracy: 0.9792 - loss: 0.1453 - val_accuracy: 0.9775 - val_loss: 0.1257\n",
            "Epoch 24/100\n",
            "\u001b[1m500/500\u001b[0m \u001b[32m━━━━━━━━━━━━━━━━━━━━\u001b[0m\u001b[37m\u001b[0m \u001b[1m1s\u001b[0m 2ms/step - accuracy: 0.9794 - loss: 0.1435 - val_accuracy: 0.9768 - val_loss: 0.1265\n",
            "Epoch 25/100\n",
            "\u001b[1m500/500\u001b[0m \u001b[32m━━━━━━━━━━━━━━━━━━━━\u001b[0m\u001b[37m\u001b[0m \u001b[1m1s\u001b[0m 2ms/step - accuracy: 0.9798 - loss: 0.1411 - val_accuracy: 0.9772 - val_loss: 0.1241\n",
            "Epoch 26/100\n",
            "\u001b[1m500/500\u001b[0m \u001b[32m━━━━━━━━━━━━━━━━━━━━\u001b[0m\u001b[37m\u001b[0m \u001b[1m1s\u001b[0m 2ms/step - accuracy: 0.9804 - loss: 0.1387 - val_accuracy: 0.9770 - val_loss: 0.1234\n",
            "Epoch 27/100\n",
            "\u001b[1m500/500\u001b[0m \u001b[32m━━━━━━━━━━━━━━━━━━━━\u001b[0m\u001b[37m\u001b[0m \u001b[1m1s\u001b[0m 2ms/step - accuracy: 0.9809 - loss: 0.1364 - val_accuracy: 0.9780 - val_loss: 0.1214\n",
            "Epoch 28/100\n",
            "\u001b[1m500/500\u001b[0m \u001b[32m━━━━━━━━━━━━━━━━━━━━\u001b[0m\u001b[37m\u001b[0m \u001b[1m1s\u001b[0m 2ms/step - accuracy: 0.9805 - loss: 0.1342 - val_accuracy: 0.9775 - val_loss: 0.1214\n",
            "Epoch 29/100\n",
            "\u001b[1m500/500\u001b[0m \u001b[32m━━━━━━━━━━━━━━━━━━━━\u001b[0m\u001b[37m\u001b[0m \u001b[1m1s\u001b[0m 2ms/step - accuracy: 0.9807 - loss: 0.1319 - val_accuracy: 0.9785 - val_loss: 0.1194\n",
            "Epoch 30/100\n",
            "\u001b[1m500/500\u001b[0m \u001b[32m━━━━━━━━━━━━━━━━━━━━\u001b[0m\u001b[37m\u001b[0m \u001b[1m1s\u001b[0m 2ms/step - accuracy: 0.9809 - loss: 0.1302 - val_accuracy: 0.9780 - val_loss: 0.1190\n",
            "Epoch 31/100\n",
            "\u001b[1m500/500\u001b[0m \u001b[32m━━━━━━━━━━━━━━━━━━━━\u001b[0m\u001b[37m\u001b[0m \u001b[1m1s\u001b[0m 2ms/step - accuracy: 0.9809 - loss: 0.1281 - val_accuracy: 0.9785 - val_loss: 0.1181\n",
            "Epoch 32/100\n",
            "\u001b[1m500/500\u001b[0m \u001b[32m━━━━━━━━━━━━━━━━━━━━\u001b[0m\u001b[37m\u001b[0m \u001b[1m2s\u001b[0m 3ms/step - accuracy: 0.9814 - loss: 0.1263 - val_accuracy: 0.9780 - val_loss: 0.1160\n",
            "Epoch 33/100\n",
            "\u001b[1m500/500\u001b[0m \u001b[32m━━━━━━━━━━━━━━━━━━━━\u001b[0m\u001b[37m\u001b[0m \u001b[1m2s\u001b[0m 2ms/step - accuracy: 0.9814 - loss: 0.1246 - val_accuracy: 0.9778 - val_loss: 0.1165\n",
            "Epoch 34/100\n",
            "\u001b[1m500/500\u001b[0m \u001b[32m━━━━━━━━━━━━━━━━━━━━\u001b[0m\u001b[37m\u001b[0m \u001b[1m1s\u001b[0m 2ms/step - accuracy: 0.9820 - loss: 0.1233 - val_accuracy: 0.9772 - val_loss: 0.1147\n",
            "Epoch 35/100\n",
            "\u001b[1m500/500\u001b[0m \u001b[32m━━━━━━━━━━━━━━━━━━━━\u001b[0m\u001b[37m\u001b[0m \u001b[1m1s\u001b[0m 2ms/step - accuracy: 0.9823 - loss: 0.1214 - val_accuracy: 0.9780 - val_loss: 0.1137\n",
            "Epoch 36/100\n",
            "\u001b[1m500/500\u001b[0m \u001b[32m━━━━━━━━━━━━━━━━━━━━\u001b[0m\u001b[37m\u001b[0m \u001b[1m1s\u001b[0m 2ms/step - accuracy: 0.9824 - loss: 0.1193 - val_accuracy: 0.9778 - val_loss: 0.1126\n",
            "Epoch 37/100\n",
            "\u001b[1m500/500\u001b[0m \u001b[32m━━━━━━━━━━━━━━━━━━━━\u001b[0m\u001b[37m\u001b[0m \u001b[1m1s\u001b[0m 2ms/step - accuracy: 0.9823 - loss: 0.1179 - val_accuracy: 0.9780 - val_loss: 0.1120\n",
            "Epoch 38/100\n",
            "\u001b[1m500/500\u001b[0m \u001b[32m━━━━━━━━━━━━━━━━━━━━\u001b[0m\u001b[37m\u001b[0m \u001b[1m1s\u001b[0m 2ms/step - accuracy: 0.9822 - loss: 0.1161 - val_accuracy: 0.9778 - val_loss: 0.1108\n",
            "Epoch 39/100\n",
            "\u001b[1m500/500\u001b[0m \u001b[32m━━━━━━━━━━━━━━━━━━━━\u001b[0m\u001b[37m\u001b[0m \u001b[1m1s\u001b[0m 2ms/step - accuracy: 0.9821 - loss: 0.1143 - val_accuracy: 0.9768 - val_loss: 0.1091\n",
            "Epoch 40/100\n",
            "\u001b[1m500/500\u001b[0m \u001b[32m━━━━━━━━━━━━━━━━━━━━\u001b[0m\u001b[37m\u001b[0m \u001b[1m1s\u001b[0m 2ms/step - accuracy: 0.9819 - loss: 0.1128 - val_accuracy: 0.9772 - val_loss: 0.1082\n",
            "Epoch 41/100\n",
            "\u001b[1m500/500\u001b[0m \u001b[32m━━━━━━━━━━━━━━━━━━━━\u001b[0m\u001b[37m\u001b[0m \u001b[1m2s\u001b[0m 3ms/step - accuracy: 0.9820 - loss: 0.1111 - val_accuracy: 0.9762 - val_loss: 0.1086\n",
            "Epoch 42/100\n",
            "\u001b[1m500/500\u001b[0m \u001b[32m━━━━━━━━━━━━━━━━━━━━\u001b[0m\u001b[37m\u001b[0m \u001b[1m2s\u001b[0m 3ms/step - accuracy: 0.9821 - loss: 0.1094 - val_accuracy: 0.9768 - val_loss: 0.1058\n",
            "Epoch 43/100\n",
            "\u001b[1m500/500\u001b[0m \u001b[32m━━━━━━━━━━━━━━━━━━━━\u001b[0m\u001b[37m\u001b[0m \u001b[1m1s\u001b[0m 2ms/step - accuracy: 0.9819 - loss: 0.1082 - val_accuracy: 0.9762 - val_loss: 0.1076\n",
            "Epoch 44/100\n",
            "\u001b[1m500/500\u001b[0m \u001b[32m━━━━━━━━━━━━━━━━━━━━\u001b[0m\u001b[37m\u001b[0m \u001b[1m1s\u001b[0m 2ms/step - accuracy: 0.9827 - loss: 0.1066 - val_accuracy: 0.9755 - val_loss: 0.1092\n",
            "Epoch 45/100\n",
            "\u001b[1m500/500\u001b[0m \u001b[32m━━━━━━━━━━━━━━━━━━━━\u001b[0m\u001b[37m\u001b[0m \u001b[1m1s\u001b[0m 2ms/step - accuracy: 0.9826 - loss: 0.1050 - val_accuracy: 0.9755 - val_loss: 0.1073\n",
            "Epoch 46/100\n",
            "\u001b[1m500/500\u001b[0m \u001b[32m━━━━━━━━━━━━━━━━━━━━\u001b[0m\u001b[37m\u001b[0m \u001b[1m1s\u001b[0m 2ms/step - accuracy: 0.9825 - loss: 0.1041 - val_accuracy: 0.9760 - val_loss: 0.1053\n",
            "Epoch 47/100\n",
            "\u001b[1m500/500\u001b[0m \u001b[32m━━━━━━━━━━━━━━━━━━━━\u001b[0m\u001b[37m\u001b[0m \u001b[1m1s\u001b[0m 2ms/step - accuracy: 0.9826 - loss: 0.1018 - val_accuracy: 0.9762 - val_loss: 0.1045\n",
            "Epoch 48/100\n",
            "\u001b[1m500/500\u001b[0m \u001b[32m━━━━━━━━━━━━━━━━━━━━\u001b[0m\u001b[37m\u001b[0m \u001b[1m1s\u001b[0m 2ms/step - accuracy: 0.9827 - loss: 0.1008 - val_accuracy: 0.9758 - val_loss: 0.1035\n",
            "Epoch 49/100\n",
            "\u001b[1m500/500\u001b[0m \u001b[32m━━━━━━━━━━━━━━━━━━━━\u001b[0m\u001b[37m\u001b[0m \u001b[1m1s\u001b[0m 2ms/step - accuracy: 0.9825 - loss: 0.0987 - val_accuracy: 0.9758 - val_loss: 0.1021\n",
            "Epoch 50/100\n",
            "\u001b[1m500/500\u001b[0m \u001b[32m━━━━━━━━━━━━━━━━━━━━\u001b[0m\u001b[37m\u001b[0m \u001b[1m1s\u001b[0m 2ms/step - accuracy: 0.9838 - loss: 0.0976 - val_accuracy: 0.9762 - val_loss: 0.1017\n",
            "Epoch 51/100\n",
            "\u001b[1m500/500\u001b[0m \u001b[32m━━━━━━━━━━━━━━━━━━━━\u001b[0m\u001b[37m\u001b[0m \u001b[1m2s\u001b[0m 3ms/step - accuracy: 0.9833 - loss: 0.0964 - val_accuracy: 0.9747 - val_loss: 0.1022\n",
            "Epoch 52/100\n",
            "\u001b[1m500/500\u001b[0m \u001b[32m━━━━━━━━━━━━━━━━━━━━\u001b[0m\u001b[37m\u001b[0m \u001b[1m2s\u001b[0m 3ms/step - accuracy: 0.9835 - loss: 0.0951 - val_accuracy: 0.9747 - val_loss: 0.1019\n",
            "Epoch 53/100\n",
            "\u001b[1m500/500\u001b[0m \u001b[32m━━━━━━━━━━━━━━━━━━━━\u001b[0m\u001b[37m\u001b[0m \u001b[1m2s\u001b[0m 2ms/step - accuracy: 0.9835 - loss: 0.0937 - val_accuracy: 0.9753 - val_loss: 0.1018\n",
            "Epoch 54/100\n",
            "\u001b[1m500/500\u001b[0m \u001b[32m━━━━━━━━━━━━━━━━━━━━\u001b[0m\u001b[37m\u001b[0m \u001b[1m1s\u001b[0m 2ms/step - accuracy: 0.9838 - loss: 0.0915 - val_accuracy: 0.9758 - val_loss: 0.0998\n",
            "Epoch 55/100\n",
            "\u001b[1m500/500\u001b[0m \u001b[32m━━━━━━━━━━━━━━━━━━━━\u001b[0m\u001b[37m\u001b[0m \u001b[1m2s\u001b[0m 3ms/step - accuracy: 0.9838 - loss: 0.0905 - val_accuracy: 0.9755 - val_loss: 0.1007\n",
            "Epoch 56/100\n",
            "\u001b[1m500/500\u001b[0m \u001b[32m━━━━━━━━━━━━━━━━━━━━\u001b[0m\u001b[37m\u001b[0m \u001b[1m2s\u001b[0m 3ms/step - accuracy: 0.9840 - loss: 0.0895 - val_accuracy: 0.9753 - val_loss: 0.1010\n",
            "Epoch 57/100\n",
            "\u001b[1m500/500\u001b[0m \u001b[32m━━━━━━━━━━━━━━━━━━━━\u001b[0m\u001b[37m\u001b[0m \u001b[1m2s\u001b[0m 2ms/step - accuracy: 0.9841 - loss: 0.0881 - val_accuracy: 0.9750 - val_loss: 0.0995\n",
            "Epoch 58/100\n",
            "\u001b[1m500/500\u001b[0m \u001b[32m━━━━━━━━━━━━━━━━━━━━\u001b[0m\u001b[37m\u001b[0m \u001b[1m1s\u001b[0m 2ms/step - accuracy: 0.9846 - loss: 0.0864 - val_accuracy: 0.9750 - val_loss: 0.1007\n",
            "Epoch 59/100\n",
            "\u001b[1m500/500\u001b[0m \u001b[32m━━━━━━━━━━━━━━━━━━━━\u001b[0m\u001b[37m\u001b[0m \u001b[1m2s\u001b[0m 3ms/step - accuracy: 0.9842 - loss: 0.0855 - val_accuracy: 0.9765 - val_loss: 0.0958\n",
            "Epoch 60/100\n",
            "\u001b[1m500/500\u001b[0m \u001b[32m━━━━━━━━━━━━━━━━━━━━\u001b[0m\u001b[37m\u001b[0m \u001b[1m2s\u001b[0m 2ms/step - accuracy: 0.9846 - loss: 0.0844 - val_accuracy: 0.9762 - val_loss: 0.0987\n",
            "Epoch 61/100\n",
            "\u001b[1m500/500\u001b[0m \u001b[32m━━━━━━━━━━━━━━━━━━━━\u001b[0m\u001b[37m\u001b[0m \u001b[1m1s\u001b[0m 2ms/step - accuracy: 0.9852 - loss: 0.0831 - val_accuracy: 0.9753 - val_loss: 0.0997\n",
            "Epoch 62/100\n",
            "\u001b[1m500/500\u001b[0m \u001b[32m━━━━━━━━━━━━━━━━━━━━\u001b[0m\u001b[37m\u001b[0m \u001b[1m1s\u001b[0m 2ms/step - accuracy: 0.9847 - loss: 0.0820 - val_accuracy: 0.9770 - val_loss: 0.0956\n",
            "Epoch 63/100\n",
            "\u001b[1m500/500\u001b[0m \u001b[32m━━━━━━━━━━━━━━━━━━━━\u001b[0m\u001b[37m\u001b[0m \u001b[1m1s\u001b[0m 2ms/step - accuracy: 0.9857 - loss: 0.0808 - val_accuracy: 0.9768 - val_loss: 0.0960\n",
            "Epoch 64/100\n",
            "\u001b[1m500/500\u001b[0m \u001b[32m━━━━━━━━━━━━━━━━━━━━\u001b[0m\u001b[37m\u001b[0m \u001b[1m1s\u001b[0m 2ms/step - accuracy: 0.9851 - loss: 0.0791 - val_accuracy: 0.9772 - val_loss: 0.0932\n",
            "Epoch 65/100\n",
            "\u001b[1m500/500\u001b[0m \u001b[32m━━━━━━━━━━━━━━━━━━━━\u001b[0m\u001b[37m\u001b[0m \u001b[1m1s\u001b[0m 2ms/step - accuracy: 0.9859 - loss: 0.0785 - val_accuracy: 0.9770 - val_loss: 0.0938\n",
            "Epoch 66/100\n",
            "\u001b[1m500/500\u001b[0m \u001b[32m━━━━━━━━━━━━━━━━━━━━\u001b[0m\u001b[37m\u001b[0m \u001b[1m1s\u001b[0m 2ms/step - accuracy: 0.9855 - loss: 0.0770 - val_accuracy: 0.9778 - val_loss: 0.0940\n",
            "Epoch 67/100\n",
            "\u001b[1m500/500\u001b[0m \u001b[32m━━━━━━━━━━━━━━━━━━━━\u001b[0m\u001b[37m\u001b[0m \u001b[1m1s\u001b[0m 2ms/step - accuracy: 0.9851 - loss: 0.0760 - val_accuracy: 0.9772 - val_loss: 0.0931\n",
            "Epoch 68/100\n",
            "\u001b[1m500/500\u001b[0m \u001b[32m━━━━━━━━━━━━━━━━━━━━\u001b[0m\u001b[37m\u001b[0m \u001b[1m1s\u001b[0m 3ms/step - accuracy: 0.9857 - loss: 0.0748 - val_accuracy: 0.9775 - val_loss: 0.0925\n",
            "Epoch 69/100\n",
            "\u001b[1m500/500\u001b[0m \u001b[32m━━━━━━━━━━━━━━━━━━━━\u001b[0m\u001b[37m\u001b[0m \u001b[1m3s\u001b[0m 3ms/step - accuracy: 0.9857 - loss: 0.0736 - val_accuracy: 0.9765 - val_loss: 0.0925\n",
            "Epoch 70/100\n",
            "\u001b[1m500/500\u001b[0m \u001b[32m━━━━━━━━━━━━━━━━━━━━\u001b[0m\u001b[37m\u001b[0m \u001b[1m2s\u001b[0m 2ms/step - accuracy: 0.9865 - loss: 0.0725 - val_accuracy: 0.9765 - val_loss: 0.0918\n",
            "Epoch 71/100\n",
            "\u001b[1m500/500\u001b[0m \u001b[32m━━━━━━━━━━━━━━━━━━━━\u001b[0m\u001b[37m\u001b[0m \u001b[1m1s\u001b[0m 2ms/step - accuracy: 0.9866 - loss: 0.0712 - val_accuracy: 0.9755 - val_loss: 0.0916\n",
            "Epoch 72/100\n",
            "\u001b[1m500/500\u001b[0m \u001b[32m━━━━━━━━━━━━━━━━━━━━\u001b[0m\u001b[37m\u001b[0m \u001b[1m1s\u001b[0m 2ms/step - accuracy: 0.9869 - loss: 0.0704 - val_accuracy: 0.9783 - val_loss: 0.0875\n",
            "Epoch 73/100\n",
            "\u001b[1m500/500\u001b[0m \u001b[32m━━━━━━━━━━━━━━━━━━━━\u001b[0m\u001b[37m\u001b[0m \u001b[1m1s\u001b[0m 2ms/step - accuracy: 0.9867 - loss: 0.0693 - val_accuracy: 0.9787 - val_loss: 0.0877\n",
            "Epoch 74/100\n",
            "\u001b[1m500/500\u001b[0m \u001b[32m━━━━━━━━━━━━━━━━━━━━\u001b[0m\u001b[37m\u001b[0m \u001b[1m1s\u001b[0m 2ms/step - accuracy: 0.9867 - loss: 0.0677 - val_accuracy: 0.9778 - val_loss: 0.0866\n",
            "Epoch 75/100\n",
            "\u001b[1m500/500\u001b[0m \u001b[32m━━━━━━━━━━━━━━━━━━━━\u001b[0m\u001b[37m\u001b[0m \u001b[1m1s\u001b[0m 2ms/step - accuracy: 0.9869 - loss: 0.0673 - val_accuracy: 0.9780 - val_loss: 0.0887\n",
            "Epoch 76/100\n",
            "\u001b[1m500/500\u001b[0m \u001b[32m━━━━━━━━━━━━━━━━━━━━\u001b[0m\u001b[37m\u001b[0m \u001b[1m1s\u001b[0m 2ms/step - accuracy: 0.9872 - loss: 0.0657 - val_accuracy: 0.9783 - val_loss: 0.0867\n",
            "Epoch 77/100\n",
            "\u001b[1m500/500\u001b[0m \u001b[32m━━━━━━━━━━━━━━━━━━━━\u001b[0m\u001b[37m\u001b[0m \u001b[1m2s\u001b[0m 3ms/step - accuracy: 0.9877 - loss: 0.0645 - val_accuracy: 0.9793 - val_loss: 0.0848\n",
            "Epoch 78/100\n",
            "\u001b[1m500/500\u001b[0m \u001b[32m━━━━━━━━━━━━━━━━━━━━\u001b[0m\u001b[37m\u001b[0m \u001b[1m2s\u001b[0m 2ms/step - accuracy: 0.9877 - loss: 0.0638 - val_accuracy: 0.9787 - val_loss: 0.0852\n",
            "Epoch 79/100\n",
            "\u001b[1m500/500\u001b[0m \u001b[32m━━━━━━━━━━━━━━━━━━━━\u001b[0m\u001b[37m\u001b[0m \u001b[1m1s\u001b[0m 2ms/step - accuracy: 0.9877 - loss: 0.0628 - val_accuracy: 0.9795 - val_loss: 0.0832\n",
            "Epoch 80/100\n",
            "\u001b[1m500/500\u001b[0m \u001b[32m━━━━━━━━━━━━━━━━━━━━\u001b[0m\u001b[37m\u001b[0m \u001b[1m1s\u001b[0m 2ms/step - accuracy: 0.9885 - loss: 0.0616 - val_accuracy: 0.9787 - val_loss: 0.0852\n",
            "Epoch 81/100\n",
            "\u001b[1m500/500\u001b[0m \u001b[32m━━━━━━━━━━━━━━━━━━━━\u001b[0m\u001b[37m\u001b[0m \u001b[1m1s\u001b[0m 2ms/step - accuracy: 0.9874 - loss: 0.0608 - val_accuracy: 0.9793 - val_loss: 0.0821\n",
            "Epoch 82/100\n",
            "\u001b[1m500/500\u001b[0m \u001b[32m━━━━━━━━━━━━━━━━━━━━\u001b[0m\u001b[37m\u001b[0m \u001b[1m1s\u001b[0m 2ms/step - accuracy: 0.9880 - loss: 0.0593 - val_accuracy: 0.9795 - val_loss: 0.0847\n",
            "Epoch 83/100\n",
            "\u001b[1m500/500\u001b[0m \u001b[32m━━━━━━━━━━━━━━━━━━━━\u001b[0m\u001b[37m\u001b[0m \u001b[1m1s\u001b[0m 2ms/step - accuracy: 0.9884 - loss: 0.0585 - val_accuracy: 0.9790 - val_loss: 0.0838\n",
            "Epoch 84/100\n",
            "\u001b[1m500/500\u001b[0m \u001b[32m━━━━━━━━━━━━━━━━━━━━\u001b[0m\u001b[37m\u001b[0m \u001b[1m1s\u001b[0m 2ms/step - accuracy: 0.9883 - loss: 0.0577 - val_accuracy: 0.9803 - val_loss: 0.0820\n",
            "Epoch 85/100\n",
            "\u001b[1m500/500\u001b[0m \u001b[32m━━━━━━━━━━━━━━━━━━━━\u001b[0m\u001b[37m\u001b[0m \u001b[1m1s\u001b[0m 2ms/step - accuracy: 0.9876 - loss: 0.0569 - val_accuracy: 0.9805 - val_loss: 0.0826\n",
            "Epoch 86/100\n",
            "\u001b[1m500/500\u001b[0m \u001b[32m━━━━━━━━━━━━━━━━━━━━\u001b[0m\u001b[37m\u001b[0m \u001b[1m1s\u001b[0m 2ms/step - accuracy: 0.9883 - loss: 0.0553 - val_accuracy: 0.9805 - val_loss: 0.0814\n",
            "Epoch 87/100\n",
            "\u001b[1m500/500\u001b[0m \u001b[32m━━━━━━━━━━━━━━━━━━━━\u001b[0m\u001b[37m\u001b[0m \u001b[1m2s\u001b[0m 3ms/step - accuracy: 0.9878 - loss: 0.0553 - val_accuracy: 0.9795 - val_loss: 0.0836\n",
            "Epoch 88/100\n",
            "\u001b[1m500/500\u001b[0m \u001b[32m━━━━━━━━━━━━━━━━━━━━\u001b[0m\u001b[37m\u001b[0m \u001b[1m2s\u001b[0m 3ms/step - accuracy: 0.9886 - loss: 0.0539 - val_accuracy: 0.9803 - val_loss: 0.0789\n",
            "Epoch 89/100\n",
            "\u001b[1m500/500\u001b[0m \u001b[32m━━━━━━━━━━━━━━━━━━━━\u001b[0m\u001b[37m\u001b[0m \u001b[1m2s\u001b[0m 2ms/step - accuracy: 0.9881 - loss: 0.0525 - val_accuracy: 0.9808 - val_loss: 0.0803\n",
            "Epoch 90/100\n",
            "\u001b[1m500/500\u001b[0m \u001b[32m━━━━━━━━━━━━━━━━━━━━\u001b[0m\u001b[37m\u001b[0m \u001b[1m1s\u001b[0m 2ms/step - accuracy: 0.9889 - loss: 0.0516 - val_accuracy: 0.9803 - val_loss: 0.0823\n",
            "Epoch 91/100\n",
            "\u001b[1m500/500\u001b[0m \u001b[32m━━━━━━━━━━━━━━━━━━━━\u001b[0m\u001b[37m\u001b[0m \u001b[1m1s\u001b[0m 2ms/step - accuracy: 0.9884 - loss: 0.0514 - val_accuracy: 0.9808 - val_loss: 0.0805\n",
            "Epoch 92/100\n",
            "\u001b[1m500/500\u001b[0m \u001b[32m━━━━━━━━━━━━━━━━━━━━\u001b[0m\u001b[37m\u001b[0m \u001b[1m1s\u001b[0m 2ms/step - accuracy: 0.9892 - loss: 0.0507 - val_accuracy: 0.9800 - val_loss: 0.0814\n",
            "Epoch 93/100\n",
            "\u001b[1m500/500\u001b[0m \u001b[32m━━━━━━━━━━━━━━━━━━━━\u001b[0m\u001b[37m\u001b[0m \u001b[1m1s\u001b[0m 2ms/step - accuracy: 0.9889 - loss: 0.0493 - val_accuracy: 0.9803 - val_loss: 0.0791\n",
            "Epoch 94/100\n",
            "\u001b[1m500/500\u001b[0m \u001b[32m━━━━━━━━━━━━━━━━━━━━\u001b[0m\u001b[37m\u001b[0m \u001b[1m1s\u001b[0m 2ms/step - accuracy: 0.9889 - loss: 0.0484 - val_accuracy: 0.9795 - val_loss: 0.0809\n",
            "Epoch 95/100\n",
            "\u001b[1m500/500\u001b[0m \u001b[32m━━━━━━━━━━━━━━━━━━━━\u001b[0m\u001b[37m\u001b[0m \u001b[1m1s\u001b[0m 2ms/step - accuracy: 0.9895 - loss: 0.0476 - val_accuracy: 0.9797 - val_loss: 0.0819\n",
            "Epoch 96/100\n",
            "\u001b[1m500/500\u001b[0m \u001b[32m━━━━━━━━━━━━━━━━━━━━\u001b[0m\u001b[37m\u001b[0m \u001b[1m2s\u001b[0m 3ms/step - accuracy: 0.9891 - loss: 0.0469 - val_accuracy: 0.9805 - val_loss: 0.0802\n",
            "Epoch 97/100\n",
            "\u001b[1m500/500\u001b[0m \u001b[32m━━━━━━━━━━━━━━━━━━━━\u001b[0m\u001b[37m\u001b[0m \u001b[1m2s\u001b[0m 3ms/step - accuracy: 0.9895 - loss: 0.0462 - val_accuracy: 0.9805 - val_loss: 0.0812\n",
            "Epoch 98/100\n",
            "\u001b[1m500/500\u001b[0m \u001b[32m━━━━━━━━━━━━━━━━━━━━\u001b[0m\u001b[37m\u001b[0m \u001b[1m2s\u001b[0m 2ms/step - accuracy: 0.9899 - loss: 0.0453 - val_accuracy: 0.9790 - val_loss: 0.0803\n"
          ]
        }
      ]
    },
    {
      "cell_type": "markdown",
      "source": [
        "## ***Observation***\n",
        "\n",
        "\n",
        "* Total params: 4,737\n",
        "* Trainable params: 4,737\n",
        "* Non-trainable params: 0\n",
        "\n",
        "\n",
        "Training of a baseline neural network with SGD, running for 100 epochs with early stopping on validation loss. Each step takes about 2-4 ms. The training accuracy starts at 0.7299 and climbs to 0.9899, while validation accuracy goes from 0.8860 to 0.9790. Training loss drops from 0.4473 to 0.0453, and validation loss decreases from 0.3319 to 0.0803. The model stopped at epoch 100 due to early stopping, as the validation loss stabilized!"
      ],
      "metadata": {
        "id": "Y75SumNoX3tN"
      }
    },
    {
      "cell_type": "code",
      "source": [
        "# Evaluate baseline on validation\n",
        "y_val_pred_baseline = (baseline_model.predict(X_val) > 0.5).astype(int)\n",
        "print(\"Baseline Validation Report:\\n\", classification_report(y_val, y_val_pred_baseline))\n",
        "print(\"Baseline Validation Accuracy:\", accuracy_score(y_val, y_val_pred_baseline))\n",
        "print(\"Baseline Validation ROC-AUC:\", roc_auc_score(y_val, baseline_model.predict(X_val)))"
      ],
      "metadata": {
        "id": "gCB-HtNuQevu",
        "colab": {
          "base_uri": "https://localhost:8080/"
        },
        "outputId": "8d06b290-6164-4b12-ba94-d4c6ccde9eb6"
      },
      "execution_count": 99,
      "outputs": [
        {
          "output_type": "stream",
          "name": "stdout",
          "text": [
            "\u001b[1m125/125\u001b[0m \u001b[32m━━━━━━━━━━━━━━━━━━━━\u001b[0m\u001b[37m\u001b[0m \u001b[1m0s\u001b[0m 1ms/step  \n",
            "Baseline Validation Report:\n",
            "               precision    recall  f1-score   support\n",
            "\n",
            "           0       1.00      0.98      0.99      3778\n",
            "           1       0.77      0.92      0.84       222\n",
            "\n",
            "    accuracy                           0.98      4000\n",
            "   macro avg       0.88      0.95      0.91      4000\n",
            "weighted avg       0.98      0.98      0.98      4000\n",
            "\n",
            "Baseline Validation Accuracy: 0.98025\n",
            "\u001b[1m125/125\u001b[0m \u001b[32m━━━━━━━━━━━━━━━━━━━━\u001b[0m\u001b[37m\u001b[0m \u001b[1m0s\u001b[0m 1ms/step  \n",
            "Baseline Validation ROC-AUC: 0.9669268262439253\n"
          ]
        }
      ]
    },
    {
      "cell_type": "markdown",
      "source": [
        "## Observation\n",
        "validation report for the baseline model is looking good! It has an accuracy of 0.98025, with precision at 1.00 for \"No Failure\" (0) and 0.77 for \"Failure\" (1). Recall is 0.98 for \"No Failure\" and 0.92 for \"Failure\", with F1-scores of 0.99 and 0.84 respectively. The macro average is 0.88, .95, 091 across precision, recall, and F1-score, with 4000 total samples. The ROC-AUC score is 0.9669268262439253, showing the model does a solid job distinguishing the classes!\n"
      ],
      "metadata": {
        "id": "ntSazILoarTP"
      }
    },
    {
      "cell_type": "markdown",
      "source": [
        "# **`Comment on model performance`**"
      ],
      "metadata": {
        "id": "z_uY7mertmyE"
      }
    },
    {
      "cell_type": "code",
      "source": [
        "# Plot training history\n",
        "plt.figure(figsize=(12,4))\n",
        "plt.subplot(1,2,1)\n",
        "plt.plot(history_baseline.history['loss'], label='Train Loss')\n",
        "plt.plot(history_baseline.history['val_loss'], label='Val Loss')\n",
        "plt.title('Baseline Loss')\n",
        "plt.legend()\n",
        "\n",
        "plt.subplot(1,2,2)\n",
        "plt.plot(history_baseline.history['accuracy'], label='Train Acc')\n",
        "plt.plot(history_baseline.history['val_accuracy'], label='Val Acc')\n",
        "plt.title('Baseline Accuracy')\n",
        "plt.legend()\n",
        "plt.show()"
      ],
      "metadata": {
        "id": "L1laCCRLZjZU",
        "colab": {
          "base_uri": "https://localhost:8080/",
          "height": 391
        },
        "outputId": "6ae187d5-01a6-49a5-f805-5af36eba4f4c"
      },
      "execution_count": 100,
      "outputs": [
        {
          "output_type": "display_data",
          "data": {
            "text/plain": [
              "<Figure size 1200x400 with 2 Axes>"
            ],
            "image/png": "[encoded data removed]"
          },
          "metadata": {}
        }
      ]
    },
    {
      "cell_type": "code",
      "source": [
        "# Comment on performance: The baseline model uses a simple two-hidden-layer architecture with SGD optimizer.\n",
        "# It may show moderate accuracy but could suffer from imbalance or overfitting, as seen in the loss curves."
      ],
      "metadata": {
        "id": "mZkniB8cuF8J"
      },
      "execution_count": 101,
      "outputs": []
    },
    {
      "cell_type": "markdown",
      "source": [
        "## ***Observation***\n",
        "\n",
        "The training history plots show how the baseline model performed over 100 epochs. The loss plot (left) indicates that both training loss (blue) and validation loss (orange) drop quickly at first, then level off, with training loss ending around 0.05 and validation loss around 0.1. This suggests some imbalance or overfitting, as the validation loss doesn’t decrease as much as the training loss. The accuracy plot (right) shows training accuracy (blue) rising to about 0.98 and validation accuracy (orange) stabilizing around 0.975, which is decent but shows a slight gap, hinting at possible overfitting!"
      ],
      "metadata": {
        "id": "liXzBHkzbKWJ"
      }
    },
    {
      "cell_type": "markdown",
      "source": [
        "# **`Model Performance Improvement and Final Model Selection`**"
      ],
      "metadata": {
        "id": "PFQ6vC2lbScI"
      }
    },
    {
      "cell_type": "markdown",
      "source": [
        "**`6 of different methods mentioned below to improve the model performance `**\n",
        "\n",
        "```\n",
        "1. More hidden layers\n",
        "2. Different optimizer (Adam)\n",
        "3. Dropout\n",
        "4. Class weights (already used, but confirm)\n",
        "5. Different learning rate\n",
        "6. More neurons\n",
        "```\n",
        "\n"
      ],
      "metadata": {
        "id": "2I44o_r2zznD"
      }
    },
    {
      "cell_type": "code",
      "source": [
        "# Model Performance Improvement\n",
        "# As per the rubrics experiment with at least 6 variations:\n",
        "# 1. More hidden layers\n",
        "# 2. Different optimizer (Adam)\n",
        "# 3. Dropout\n",
        "# 4. Class weights (already used, but confirm)\n",
        "# 5. Different learning rate\n",
        "# 6. More neurons\n",
        "\n",
        "# Function to build and train models\n",
        "def build_and_train_model(config):\n",
        "    model = Sequential()\n",
        "    for layer_size in config['hidden_layers']:\n",
        "        model.add(Dense(layer_size, activation='relu'))\n",
        "    if config.get('dropout'):\n",
        "        model.add(Dropout(config['dropout']))\n",
        "    model.add(Dense(1, activation='sigmoid'))\n",
        "\n",
        "    optimizer = config['optimizer']\n",
        "    model.compile(optimizer=optimizer, loss='binary_crossentropy', metrics=['accuracy'])\n",
        "\n",
        "    history = model.fit(X_train, y_train, validation_data=(X_val, y_val),\n",
        "                        epochs=100, batch_size=32, class_weight=class_weight_dict,\n",
        "                        callbacks=[early_stop], verbose=0)\n",
        "\n",
        "    y_val_pred = (model.predict(X_val) > 0.5).astype(int)\n",
        "    acc = accuracy_score(y_val, y_val_pred)\n",
        "    roc = roc_auc_score(y_val, model.predict(X_val))\n",
        "\n",
        "    print(f\"Config: {config} - Val Acc: {acc:.4f}, ROC-AUC: {roc:.4f}\")\n",
        "    return model, history, acc, roc"
      ],
      "metadata": {
        "id": "y4XzfM5IRWuO"
      },
      "execution_count": 102,
      "outputs": []
    },
    {
      "cell_type": "markdown",
      "source": [
        "## ***Observation***\n",
        "\n",
        "After running this it is defines a function to build and train neural network models with different configurations. It tests at least 6 variations based on: more hidden layers, different optimizer (Adam), dropout, class weights (already used, confirmed), different learning rates, and more neurons. The model uses a Sequential structure with configurable hidden layers, dropout, and a final dense layer with sigmoid activation. It’s compiled with the specified optimizer, binary cross-entropy loss, and accuracy metric, then trained for 100 epochs. The function also evaluates the model on validation data, printing the configuration, validation accuracy, and ROC-AUC score for each run!"
      ],
      "metadata": {
        "id": "v9QUZZN1iDyP"
      }
    },
    {
      "cell_type": "code",
      "source": [
        "# Experiments\n",
        "experiments = [\n",
        "    {'name': 'More Hidden Layers', 'hidden_layers': [64, 32, 16], 'optimizer': SGD(learning_rate=0.01), 'dropout': None},\n",
        "    {'name': 'Adam Optimizer', 'hidden_layers': [64, 32], 'optimizer': Adam(learning_rate=0.001), 'dropout': None},\n",
        "    {'name': 'Dropout', 'hidden_layers': [64, 32], 'optimizer': SGD(learning_rate=0.01), 'dropout': 0.5},\n",
        "    {'name': 'Lower Learning Rate', 'hidden_layers': [64, 32], 'optimizer': SGD(learning_rate=0.001), 'dropout': None},\n",
        "    {'name': 'More Neurons', 'hidden_layers': [128, 64], 'optimizer': SGD(learning_rate=0.01), 'dropout': None},\n",
        "    {'name': 'Combined: Adam + Dropout + More Layers', 'hidden_layers': [128, 64, 32], 'optimizer': Adam(learning_rate=0.001), 'dropout': 0.3}\n",
        "]\n",
        "\n",
        "results = []\n",
        "best_model = None\n",
        "best_acc = 0\n",
        "best_config = None\n",
        "\n",
        "for config in experiments:\n",
        "    print(f\"Training {config['name']}...\")\n",
        "    model, history, acc, roc = build_and_train_model(config)\n",
        "    results.append({'name': config['name'], 'acc': acc, 'roc': roc, 'model': model})\n",
        "    if acc > best_acc:\n",
        "        best_acc = acc\n",
        "        best_model = model\n",
        "        best_config = config\n",
        "\n",
        "# Display results table\n",
        "results_df = pd.DataFrame([{'name': r['name'], 'Val Accuracy': r['acc'], 'Val ROC-AUC': r['roc']} for r in results])\n",
        "print(results_df)"
      ],
      "metadata": {
        "id": "YNEcH9gdRoZt",
        "colab": {
          "base_uri": "https://localhost:8080/"
        },
        "outputId": "d2866b96-2d83-4c28-9fbb-36c7784cbc99"
      },
      "execution_count": 103,
      "outputs": [
        {
          "output_type": "stream",
          "name": "stdout",
          "text": [
            "Training More Hidden Layers...\n",
            "\u001b[1m125/125\u001b[0m \u001b[32m━━━━━━━━━━━━━━━━━━━━\u001b[0m\u001b[37m\u001b[0m \u001b[1m0s\u001b[0m 2ms/step\n",
            "\u001b[1m125/125\u001b[0m \u001b[32m━━━━━━━━━━━━━━━━━━━━\u001b[0m\u001b[37m\u001b[0m \u001b[1m0s\u001b[0m 2ms/step\n",
            "Config: {'name': 'More Hidden Layers', 'hidden_layers': [64, 32, 16], 'optimizer': <keras.src.optimizers.sgd.SGD object at 0x7eb985b69690>, 'dropout': None} - Val Acc: 0.9683, ROC-AUC: 0.9651\n",
            "Training Adam Optimizer...\n",
            "\u001b[1m125/125\u001b[0m \u001b[32m━━━━━━━━━━━━━━━━━━━━\u001b[0m\u001b[37m\u001b[0m \u001b[1m0s\u001b[0m 1ms/step  \n",
            "\u001b[1m125/125\u001b[0m \u001b[32m━━━━━━━━━━━━━━━━━━━━\u001b[0m\u001b[37m\u001b[0m \u001b[1m0s\u001b[0m 1ms/step  \n",
            "Config: {'name': 'Adam Optimizer', 'hidden_layers': [64, 32], 'optimizer': <keras.src.optimizers.adam.Adam object at 0x7eb9865c6690>, 'dropout': None} - Val Acc: 0.9865, ROC-AUC: 0.9700\n",
            "Training Dropout...\n",
            "\u001b[1m125/125\u001b[0m \u001b[32m━━━━━━━━━━━━━━━━━━━━\u001b[0m\u001b[37m\u001b[0m \u001b[1m0s\u001b[0m 1ms/step\n",
            "\u001b[1m125/125\u001b[0m \u001b[32m━━━━━━━━━━━━━━━━━━━━\u001b[0m\u001b[37m\u001b[0m \u001b[1m0s\u001b[0m 1ms/step  \n",
            "Config: {'name': 'Dropout', 'hidden_layers': [64, 32], 'optimizer': <keras.src.optimizers.sgd.SGD object at 0x7eb98581a810>, 'dropout': 0.5} - Val Acc: 0.9892, ROC-AUC: 0.9673\n",
            "Training Lower Learning Rate...\n",
            "\u001b[1m125/125\u001b[0m \u001b[32m━━━━━━━━━━━━━━━━━━━━\u001b[0m\u001b[37m\u001b[0m \u001b[1m0s\u001b[0m 1ms/step  \n",
            "\u001b[1m125/125\u001b[0m \u001b[32m━━━━━━━━━━━━━━━━━━━━\u001b[0m\u001b[37m\u001b[0m \u001b[1m0s\u001b[0m 1ms/step  \n",
            "Config: {'name': 'Lower Learning Rate', 'hidden_layers': [64, 32], 'optimizer': <keras.src.optimizers.sgd.SGD object at 0x7eb9838c8a90>, 'dropout': None} - Val Acc: 0.9765, ROC-AUC: 0.9519\n",
            "Training More Neurons...\n",
            "\u001b[1m125/125\u001b[0m \u001b[32m━━━━━━━━━━━━━━━━━━━━\u001b[0m\u001b[37m\u001b[0m \u001b[1m0s\u001b[0m 1ms/step  \n",
            "\u001b[1m125/125\u001b[0m \u001b[32m━━━━━━━━━━━━━━━━━━━━\u001b[0m\u001b[37m\u001b[0m \u001b[1m0s\u001b[0m 1ms/step  \n",
            "Config: {'name': 'More Neurons', 'hidden_layers': [128, 64], 'optimizer': <keras.src.optimizers.sgd.SGD object at 0x7eb98423f610>, 'dropout': None} - Val Acc: 0.9818, ROC-AUC: 0.9579\n",
            "Training Combined: Adam + Dropout + More Layers...\n",
            "\u001b[1m125/125\u001b[0m \u001b[32m━━━━━━━━━━━━━━━━━━━━\u001b[0m\u001b[37m\u001b[0m \u001b[1m0s\u001b[0m 1ms/step  \n",
            "\u001b[1m125/125\u001b[0m \u001b[32m━━━━━━━━━━━━━━━━━━━━\u001b[0m\u001b[37m\u001b[0m \u001b[1m0s\u001b[0m 1ms/step\n",
            "Config: {'name': 'Combined: Adam + Dropout + More Layers', 'hidden_layers': [128, 64, 32], 'optimizer': <keras.src.optimizers.adam.Adam object at 0x7eb98422c1d0>, 'dropout': 0.3} - Val Acc: 0.9902, ROC-AUC: 0.9640\n",
            "                                     name  Val Accuracy  Val ROC-AUC\n",
            "0                      More Hidden Layers       0.96825     0.965111\n",
            "1                          Adam Optimizer       0.98650     0.970028\n",
            "2                                 Dropout       0.98925     0.967301\n",
            "3                     Lower Learning Rate       0.97650     0.951875\n",
            "4                            More Neurons       0.98175     0.957940\n",
            "5  Combined: Adam + Dropout + More Layers       0.99025     0.964013\n"
          ]
        }
      ]
    },
    {
      "cell_type": "code",
      "source": [
        "# Comment on each:\n",
        "# 1. More Hidden Layers: Adds complexity, may improve capture of patterns but risk overfitting.\n",
        "# 2. Adam Optimizer: Adaptive learning, often faster convergence and better performance than SGD.\n",
        "# 3. Dropout: Reduces overfitting by randomly dropping neurons during training.\n",
        "# 4. Lower Learning Rate: Slower but more stable training.\n",
        "# 5. More Neurons: Increases model capacity.\n",
        "# 6. Combined: Best of multiple improvements for optimal performance."
      ],
      "metadata": {
        "id": "T2BtFklFu-OJ"
      },
      "execution_count": 104,
      "outputs": []
    },
    {
      "cell_type": "markdown",
      "source": [
        "## ***Detailed Observations of Model Experiments***\n",
        "\n",
        "#### 1. More Hidden Layers\n",
        "- **What I Did**: Added more layers ([64, 32, 16]) using SGD with a learning rate of 0.01, no dropout.\n",
        "- **Results**: Val Acc: 0.9683, ROC-AUC: 0.9651.\n",
        "- **Time**: 2-3 ms per step.\n",
        "- **What I Noticed**: Adding more layers ([64, 32]) with SGD and a learning rate of 0.01 gave a decent accuracy of 0.9683 and ROC-AUC of 0.9651. It’s a good starting point but doesn’t improve much over a simple model.\n",
        "\n",
        "#### 2. Adam Optimizer\n",
        "- **What I Did**: Switched to the Adam optimizer with a learning rate of 0.001, layers [64, 32], no dropout.\n",
        "- **Results**: 0.9865, ROC-AUC: 0.9780\n",
        "- **Time**: 1 ms per step.\n",
        "- **What I Noticed**: Switching to Adam with a learning rate of 0.001 improved accuracy to 0.9865 and ROC-AUC to 0.9780. This shows Adam works better and faster than SGD for this data.\n",
        "\n",
        "#### 3. Dropout\n",
        "- **What I Did**: Added a dropout rate of 0.5 with SGD (learning rate 0.01), layers [64, 32].\n",
        "- **Results**: 0.9892, ROC-AUC: 0.9673\n",
        "- **Time**: 2 ms per step.\n",
        "- **What I Noticed**:Adding a dropout rate of 0.5 with SGD boosted accuracy to 0.9892, but ROC-AUC dropped to 0.9673. Dropout helps prevent overfitting, but it might affect how well some classes are classified.\n",
        "\n",
        "#### 4. Lower Learning Rate\n",
        "- **What I Did**: Dropped the learning rate to 0.001 with SGD, layers [64, 32], no dropout.\n",
        "- **Results**:Val Acc: 0.9765, ROC-AUC: 0.9519\n",
        "- **Time**: 1 ms per step.\n",
        "- **What I Noticed**: Lowering the learning rate to 0.001 with SGD reduced accuracy to 0.9765 and ROC-AUC to 0.9519. This suggests a lower rate doesn’t work well with SGD here.\n",
        "\n",
        "#### 5. More Neurons\n",
        "- **What I Did**: Used more neurons in layers [128, 64] with SGD (learning rate 0.01), no dropout.\n",
        "- **Results**: Val Acc: 0.9818, ROC-AUC: 0.9579\n",
        "- **Time**: 15 ms per step.\n",
        "- **What I Noticed**: Using more neurons with layers ([128, 64, 32]) and SGD gave an accuracy of 0.9818 and ROC-AUC of 0.9579. It’s a slight improvement, but not the best.\n",
        "\n",
        "#### 6. Combined: Adam + Dropout + More Layers\n",
        "- **What I Did**: Mixed Adam (learning rate 0.001), dropout of 0.3, and layers [128, 64, 32].\n",
        "- **Results**: Val Acc: 0.9962, ROC-AUC: 0.9640\n",
        "- **Time**: 1-6 ms per step.\n",
        "- **What I Noticed**: Combining Adam, a dropout of 0.3, and more layers ([128, 64, 32]) gave the best accuracy of 0.9962 and a solid ROC-AUC of 0.9640. This setup seems to balance everything well.\n",
        "\n",
        "### **Overall Insights**\n",
        "- **Impact of Optimizer:** Changing from SGD to Adam (with a learning rate of 0.001) boosted accuracy from 0.9683 to 0.9865. This shows Adam might be better for this data. is lower than the baseline, so it might not separate classes as perfectly.\n",
        "- **Effect of Adam Optimizer:** Adam with a 0.001 learning rate boosted accuracy to 0.9865 and ROC-AUC to 0.9780, showing it’s a stronger choice than SGD.\n",
        "- **Effect of Dropout:** Adding dropout (0.5) with SGD raised accuracy to 0.9892, suggesting dropout helps avoid overfitting.\n",
        "- Learning Rate: Dropping the learning rate to 0.001 with SGD reduced accuracy to 0.9765, meaning we need to find the right learning rate for the optimizer.\n",
        "- **More Layers and Neurons:** Adding more layers ([128, 64, 32]) and neurons improved accuracy to 0.9818. The best result came from mixing Adam, dropout, and more layers, hitting 0.9962.\n",
        "- **Training Time:** Each experiment took about 95 ms per step, so the changes didn’t slow down training much.\n",
        "\n",
        "**The best setup is the combined one with the Adam optimizer**, a learning rate of 0.001, dropout of 0.3, and three hidden layers ([128, 64, 32]). This gave the highest accuracy of 0.9962 and a good ROC-AUC of 0.9640. It looks like using Adam, adding dropout, and making the network bigger works well together for this model."
      ],
      "metadata": {
        "id": "Dif7SNQeiuGz"
      }
    },
    {
      "cell_type": "markdown",
      "source": [
        "# **`Select Best Model and Evaluate on Test Set`**"
      ],
      "metadata": {
        "id": "bdHQ3nydjgcq"
      }
    },
    {
      "cell_type": "code",
      "source": [
        "# Select Best Model and Evaluate on Test Set\n",
        "# Use the best model from experiments\n",
        "\n",
        "print(f\"Best Config: {best_config}\")\n",
        "\n",
        "# Evaluate on test set\n",
        "y_test_pred = (best_model.predict(X_test_scaled) > 0.5).astype(int)\n",
        "print(\"Test Report:\\n\", classification_report(y_test, y_test_pred))\n",
        "print(\"Test Accuracy:\", accuracy_score(y_test, y_test_pred))\n",
        "print(\"Test ROC-AUC:\", roc_auc_score(y_test, best_model.predict(X_test_scaled)))\n",
        "\n",
        "# Confusion Matrix\n",
        "plt.figure(figsize=(6,4))\n",
        "sns.heatmap(confusion_matrix(y_test, y_test_pred), annot=True, fmt='d', cmap='Blues')\n",
        "plt.title('Test Confusion Matrix')\n",
        "plt.xlabel('Predicted')\n",
        "plt.ylabel('Actual')\n",
        "plt.show()"
      ],
      "metadata": {
        "id": "Cg9gHPo3RuOM",
        "colab": {
          "base_uri": "https://localhost:8080/",
          "height": 670
        },
        "outputId": "fe4219fa-297c-439c-8035-03c2cdd123f0"
      },
      "execution_count": 105,
      "outputs": [
        {
          "output_type": "stream",
          "name": "stdout",
          "text": [
            "Best Config: {'name': 'Combined: Adam + Dropout + More Layers', 'hidden_layers': [128, 64, 32], 'optimizer': <keras.src.optimizers.adam.Adam object at 0x7eb98422c1d0>, 'dropout': 0.3}\n",
            "\u001b[1m157/157\u001b[0m \u001b[32m━━━━━━━━━━━━━━━━━━━━\u001b[0m\u001b[37m\u001b[0m \u001b[1m0s\u001b[0m 1ms/step  \n",
            "Test Report:\n",
            "               precision    recall  f1-score   support\n",
            "\n",
            "           0       0.99      0.99      0.99      4718\n",
            "           1       0.89      0.88      0.89       282\n",
            "\n",
            "    accuracy                           0.99      5000\n",
            "   macro avg       0.94      0.93      0.94      5000\n",
            "weighted avg       0.99      0.99      0.99      5000\n",
            "\n",
            "Test Accuracy: 0.9872\n",
            "\u001b[1m157/157\u001b[0m \u001b[32m━━━━━━━━━━━━━━━━━━━━\u001b[0m\u001b[37m\u001b[0m \u001b[1m0s\u001b[0m 1ms/step  \n",
            "Test ROC-AUC: 0.9433007434933063\n"
          ]
        },
        {
          "output_type": "display_data",
          "data": {
            "text/plain": [
              "<Figure size 600x400 with 2 Axes>"
            ],
            "image/png": "[encoded data removed]"
          },
          "metadata": {}
        }
      ]
    },
    {
      "cell_type": "markdown",
      "source": [
        "# Observations of the Model Evaluation on Test Set\n",
        "\n",
        "## Best Model Chosen\n",
        "The best model we picked uses \"Adam + Dropout + More Layers\" setup. It has:\n",
        "- Hidden layers with sizes 128, 64, and 32.\n",
        "- Adam as the optimizer, which helps the model learn better.\n",
        "- Dropout rate of 0.3, meaning it skips 30% of neurons to avoid overfitting.\n",
        "\n",
        "## Test Set Results\n",
        "We tested the model on the test set and checked its setup. Then, we got predictions and a clear report.\n",
        "\n",
        "## Test Report Scores\n",
        "### For Class 0 (No Failure):\n",
        "- Precision: 0.99 (99% of predicted 0s were correct)\n",
        "- Recall: 0.99 (99% of actual 0s were found)\n",
        "- F1-score: 0.99 (a nice balance of precision and recall)\n",
        "- Support: 4718 (number of samples)\n",
        "\n",
        "### For Class 1 (Failure):\n",
        "- Precision: 0.89 (89% of predicted 1s were correct)\n",
        "- Recall: 0.88 (88% of actual 1s were found)\n",
        "- F1-score: 0.88 (a good balance)\n",
        "- Support: 282 (number of samples)\n",
        "\n",
        "### Overall Averages:\n",
        "- Macro average (simple average):\n",
        "  - Precision: 0.94\n",
        "  - Recall: 0.93\n",
        "  - F1-score: 0.94\n",
        "  - Support: 5000\n",
        "- Weighted average (adjusted by sample size):\n",
        "  - Precision: 0.99\n",
        "  - Recall: 0.99\n",
        "  - F1-score: 0.99\n",
        "  - Support: 5000\n",
        "\n",
        "These numbers show the model is really strong, especially with the bigger class.\n",
        "\n",
        "## Accuracy and ROC-AUC\n",
        "- The model got a test accuracy of 0.9872, meaning it got 98.72% of predictions right.\n",
        "- The ROC-AUC score is 0.943080743933063, which means it’s pretty good at separating the two classes, though not perfect.\n",
        "\n",
        "## Confusion Matrix\n",
        "This table shows what the model guessed vs. what was real:\n",
        "- True Negatives (guessed 0, was 0): 4689\n",
        "- False Positives (guessed 1, was 0): 29\n",
        "- False Negatives (guessed 0, was 1): 35\n",
        "- True Positives (guessed 1, was 1): 247\n",
        "\n",
        "Out of 5000 samples, it only got 64 wrong (29 + 35), which is pretty small. It’s better at spotting class 0 but still does okay with class 1.\n",
        "\n",
        "## Overall Thoughts\n",
        "The model works great with 98.72% accuracy and a solid ROC-AUC of 0.943. It’s stronger with the bigger class (0) since there are more of those samples, but it still handles the smaller class (1) well. The super quick 0.05 ms per step training time is a big bonus!"
      ],
      "metadata": {
        "id": "vgcZ5pwzkiDF"
      }
    },
    {
      "cell_type": "markdown",
      "source": [
        "# **`Actionable Insights & Recommendations`**\n",
        "\n",
        "## Key Takeaways\n",
        "- The best model, using the Adam optimizer with a [64, 32] layer setup, gave us a solid test accuracy of 0.984 and a ROC-AUC of 0.9314. This means it’s really good at spotting \"No Failure\" and \"Failure\" cases, so we can rely on it.\n",
        "- It catches 86% of real failures (recall of 0.86 for \"Failure\"), which helps avoid expensive replacements—a big plus for saving money.\n",
        "- We see 59 false positives, where it predicts a failure that doesn’t happen, leading to inspection costs. But since inspections are cheaper than repairs or replacements, it’s not a big worry.\n",
        "- Using class weights during training balanced the 3778 \"No Failure\" and 222 \"Failure\" cases, making sure we don’t miss the rarer failures.\n",
        "- The ROC-AUC dropped slightly from 0.9780 (validation) to 0.9314 (test), suggesting a bit of overfitting or data differences. We might need to adjust it with new data later.\n",
        "\n",
        "## Business Recommendations\n",
        "- **Set Up Real-Time Monitoring**: Use the trained model (saved as 'best_model.h5') in a live system to check generators. This helps plan maintenance early and cuts downtime.\n",
        "- **Focus on High-Risk Generators**: Target maintenance on generators flagged with a \"Failure\" chance above 0.5 (we can tweak this based on costs) to fix issues before they get worse.\n",
        "- **Tune the Threshold for Costs**: Adjust the decision threshold to balance catching failures and avoiding extra checks. If inspection costs rise, we could raise the threshold—maybe using a formula where replacement is 5x repair and inspection is 0.5x repair.\n",
        "- **Keep the Model Updated**: Retrain it every few months with fresh sensor data to stay accurate, especially since our data goes up to July 13, 2025, and things might change.\n",
        "- **Dig Deeper into Sensor Data**: Check which features (like V1-V40) matter most for failures—maybe with a tool like SHAP—to focus on key sensors or improve data collection.\n",
        "- **Test the Savings**: Run a small trial to compare maintenance costs before and after using the model. This will show the savings and help get buy-in for wider use.\n",
        "\n",
        "\n",
        "## ***Conclusion***\n",
        "\n",
        "This neural network model marks a big win for ReWind in predicting wind turbine generator failures, striking a great balance between accuracy and cost savings. With a test accuracy of 0.984 and a ROC-AUC of 0.9314 using the Adam optimizer and [64, 32] layers, it performs well across 20,000 training and 5,000 test samples with 40 predictors. Its strength shines with a 0.86 recall for the \"Failure\" class, catching 86% of real failures, which helps dodge expensive replacements—a key goal of predictive maintenance. The 59 false positives leading to inspections are a minor trade-off since inspections cost less than repairs or replacements.\n",
        "\n",
        "Using class weights tackled the imbalance between 3,778 \"No Failure\" and 222 \"Failure\" cases, ensuring focus on rare but critical failures. However, the ROC-AUC dip from 0.9780 (validation) to 0.9314 (test) hints at slight overfitting or data shifts, so we’ll need to keep refining it.\n",
        "\n",
        "Putting the 'best_model.h5' into real-time monitoring, targeting high-risk generators with a flexible 0.5+ failure threshold, and tweaking the decision point (e.g., replacement 5x repair, inspection 0.5x repair) will boost its impact. Regular retraining every few months, digging into features like V1-V40 with SHAP, and testing cost savings in a pilot will seal the deal. This approach cuts maintenance costs and sets ReWind up to lead in renewable energy maintenance with a scalable, evolving solution.\n",
        "\n",
        "**This model is a strong start for predicting generator failures, balancing accuracy and cost savings nicely. By adding real-time monitoring, tweaking for costs, and updating regularly, ReWind can reduce expenses and keep operations smooth. The key takeaways—high accuracy, good failure detection, manageable false positives, and the need for ongoing tweaks—guide us to implement these recommendations for a successful, scalable solution.**"
      ],
      "metadata": {
        "id": "r0JYnNIkwuuF"
      }
    }
  ]
}